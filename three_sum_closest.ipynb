{
 "cells": [
  {
   "cell_type": "markdown",
   "metadata": {},
   "source": [
    "### no.16. 最接近的三数之和\n",
    "\n",
    "给定一个包括 n 个整数的数组 nums 和 一个目标值 target。找出 nums 中的三个整数，使得它们的和与 target 最接近。返回这三个数的和。假定每组输入只存在唯一答案。\n",
    "\n",
    "```\n",
    "输入：nums = [-1,2,1,-4], target = 1\n",
    "输出：2\n",
    "解释：与 target 最接近的和是 2 (-1 + 2 + 1 = 2) 。\n",
    "```"
   ]
  },
  {
   "cell_type": "markdown",
   "metadata": {},
   "source": [
    "* 采用双指针和排序\n",
    "1. 对数组进行排序\n",
    "2. 遍历数组，start指向i+1处，end指向length-1处\n",
    "3. sum = num\\[i\\] = num\\[start\\] + num\\[end\\]， 判断sum与target的距离，更新与target最接近的值\n",
    "4. 判断sum与targ的大小，如果sum>target，则end左移一位，否则start右移一位"
   ]
  },
  {
   "cell_type": "code",
   "execution_count": 11,
   "metadata": {},
   "outputs": [],
   "source": [
    "def three_sum_closest(nums, target):\n",
    "    len_ = len(nums)\n",
    "    nums.sort()\n",
    "    res = nums[0] + nums[1] + nums[2]\n",
    "    for i in range(len_-1):\n",
    "        start = i + 1\n",
    "        end = len_ - 1\n",
    "        while start < end:\n",
    "            sum_ = nums[i] + nums[start] + nums[end]\n",
    "            if abs(target-res) > abs(target-sum_):\n",
    "                res = sum_\n",
    "            if target > sum_:\n",
    "                start += 1\n",
    "            elif target < sum_:\n",
    "                end -= 1\n",
    "            else:\n",
    "                return res\n",
    "\n",
    "    return res"
   ]
  },
  {
   "cell_type": "code",
   "execution_count": 12,
   "metadata": {},
   "outputs": [
    {
     "output_type": "execute_result",
     "data": {
      "text/plain": "2"
     },
     "metadata": {},
     "execution_count": 12
    }
   ],
   "source": [
    "three_sum_closest([-1,2,1,-4], 1)"
   ]
  },
  {
   "cell_type": "code",
   "execution_count": null,
   "metadata": {},
   "outputs": [],
   "source": []
  }
 ],
 "metadata": {
  "language_info": {
   "codemirror_mode": {
    "name": "ipython",
    "version": 3
   },
   "file_extension": ".py",
   "mimetype": "text/x-python",
   "name": "python",
   "nbconvert_exporter": "python",
   "pygments_lexer": "ipython3",
   "version": "3.7.3-final"
  },
  "orig_nbformat": 2,
  "kernelspec": {
   "name": "python3",
   "display_name": "Python 3"
  }
 },
 "nbformat": 4,
 "nbformat_minor": 2
}