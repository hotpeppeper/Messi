{
 "cells": [
  {
   "cell_type": "markdown",
   "metadata": {},
   "source": [
    "### np.14. 最长公共前缀\n",
    "\n",
    "编写一个函数来查找字符串数组中的最长公共前缀。\n",
    "如果不存在公共前缀，返回空字符串 \"\"。\n",
    "```\n",
    "输入: [\"flower\",\"flow\",\"flight\"]\n",
    "输出: \"fl\"\n",
    "```"
   ]
  },
  {
   "cell_type": "markdown",
   "metadata": {},
   "source": [
    "* 依次遍历字符串数组，当遍历到第i个字符串的时候，找到最长公共前缀，执行n遍后，返回结果"
   ]
  },
  {
   "cell_type": "code",
   "execution_count": 3,
   "metadata": {},
   "outputs": [],
   "source": [
    "def longest_comment_prefix(strs):\n",
    "    if len(strs) == 0:\n",
    "        return ''\n",
    "\n",
    "    prefix = strs[0]\n",
    "    for str_ in strs[1:]:\n",
    "        while str_.find(prefix) != 0:\n",
    "            prefix = prefix[0 : len(prefix)-1]\n",
    "            # print(prefix)\n",
    "            if len(prefix) == 0:\n",
    "                return ''\n",
    "\n",
    "    return prefix"
   ]
  },
  {
   "cell_type": "code",
   "execution_count": 4,
   "metadata": {},
   "outputs": [
    {
     "output_type": "stream",
     "name": "stdout",
     "text": "flowe\nflow\nflo\nfl\n"
    },
    {
     "output_type": "execute_result",
     "data": {
      "text/plain": "'fl'"
     },
     "metadata": {},
     "execution_count": 4
    }
   ],
   "source": [
    "longest_comment_prefix([\"flower\",\"flow\",\"flight\"])"
   ]
  },
  {
   "cell_type": "code",
   "execution_count": null,
   "metadata": {},
   "outputs": [],
   "source": []
  }
 ],
 "metadata": {
  "language_info": {
   "codemirror_mode": {
    "name": "ipython",
    "version": 3
   },
   "file_extension": ".py",
   "mimetype": "text/x-python",
   "name": "python",
   "nbconvert_exporter": "python",
   "pygments_lexer": "ipython3",
   "version": "3.7.3-final"
  },
  "orig_nbformat": 2,
  "kernelspec": {
   "name": "python3",
   "display_name": "Python 3"
  }
 },
 "nbformat": 4,
 "nbformat_minor": 2
}