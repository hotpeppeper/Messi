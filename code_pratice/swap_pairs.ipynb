{
 "cells": [
  {
   "cell_type": "markdown",
   "metadata": {},
   "source": [
    "### no.24. 两两交换链表中的节点\n",
    "给定一个链表，两两交换其中相邻的节点，并返回交换后的链表。\n",
    "\n",
    "你不能只是单纯的改变节点内部的值，而是需要实际的进行节点交换。\n",
    "```\n",
    "给定 1->2->3->4, 你应该返回 2->1->4->3.\n",
    "```"
   ]
  },
  {
   "cell_type": "code",
   "execution_count": 1,
   "metadata": {},
   "outputs": [],
   "source": [
    "class ListNode:\n",
    "    def __init__(self, x):\n",
    "        self.val = x\n",
    "        self.next = None"
   ]
  },
  {
   "cell_type": "code",
   "execution_count": 2,
   "metadata": {},
   "outputs": [],
   "source": [
    "def swap_pairs(head):\n",
    "    dummy = ListNode(-1)\n",
    "    # 保存head\n",
    "    dummy.next = head\n",
    "    pre = dummy\n",
    "    while head and head.next:\n",
    "        first = head\n",
    "        second = head.next\n",
    "        pre.next = second\n",
    "        first.next = second.next\n",
    "        second.next = first\n",
    "\n",
    "        pre = first\n",
    "        head = first.next\n",
    "    return dummy.next\n"
   ]
  },
  {
   "cell_type": "code",
   "execution_count": null,
   "metadata": {},
   "outputs": [],
   "source": []
  }
 ],
 "metadata": {
  "language_info": {
   "codemirror_mode": {
    "name": "ipython",
    "version": 3
   },
   "file_extension": ".py",
   "mimetype": "text/x-python",
   "name": "python",
   "nbconvert_exporter": "python",
   "pygments_lexer": "ipython3",
   "version": "3.7.3-final"
  },
  "orig_nbformat": 2,
  "kernelspec": {
   "name": "python3",
   "display_name": "Python 3"
  }
 },
 "nbformat": 4,
 "nbformat_minor": 2
}