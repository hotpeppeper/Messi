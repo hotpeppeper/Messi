{
 "cells": [
  {
   "cell_type": "markdown",
   "metadata": {},
   "source": [
    "### no.91\n",
    "### 一条包含字母 A-Z 的消息通过以下方式进行了编码：\n",
    "* 'A' --> 1\n",
    "* 'B' --> 2\n",
    "* ...\n",
    "* 'Z' --> 26"
   ]
  },
  {
   "cell_type": "code",
   "execution_count": 19,
   "metadata": {},
   "outputs": [],
   "source": [
    "def num_decodings(s):\n",
    "    if s is None or s[0] == '0':\n",
    "        return 0\n",
    "\n",
    "    len_ = len(s)\n",
    "    dp = [0] * (len_+1)\n",
    "    dp[0] = dp[1] = 1\n",
    "    for i in range(1, len_):\n",
    "        if s[i] == '0':\n",
    "            if s[i-1] == '1' or s[i-1] == '2':\n",
    "                dp[i+1] = dp[i-1]\n",
    "            else:\n",
    "                return 0\n",
    "        else:\n",
    "            if 10 < int(s[i-1:i+1]) <= 26:\n",
    "                dp[i+1] = dp[i] + dp[i-1]\n",
    "            else:\n",
    "                dp[i+1] = dp[i]\n",
    "    return dp[-1]        "
   ]
  },
  {
   "cell_type": "code",
   "execution_count": 20,
   "metadata": {},
   "outputs": [
    {
     "output_type": "execute_result",
     "data": {
      "text/plain": "3"
     },
     "metadata": {},
     "execution_count": 20
    }
   ],
   "source": [
    "num_decodings('1234')"
   ]
  },
  {
   "cell_type": "code",
   "execution_count": 21,
   "metadata": {},
   "outputs": [
    {
     "output_type": "execute_result",
     "data": {
      "text/plain": "168"
     },
     "metadata": {},
     "execution_count": 21
    }
   ],
   "source": [
    "num_decodings('122112321121')"
   ]
  },
  {
   "cell_type": "code",
   "execution_count": null,
   "metadata": {},
   "outputs": [],
   "source": []
  }
 ],
 "metadata": {
  "language_info": {
   "codemirror_mode": {
    "name": "ipython",
    "version": 3
   },
   "file_extension": ".py",
   "mimetype": "text/x-python",
   "name": "python",
   "nbconvert_exporter": "python",
   "pygments_lexer": "ipython3",
   "version": "3.7.3-final"
  },
  "orig_nbformat": 2,
  "kernelspec": {
   "name": "python3",
   "display_name": "Python 3"
  }
 },
 "nbformat": 4,
 "nbformat_minor": 2
}