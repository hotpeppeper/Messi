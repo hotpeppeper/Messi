{
 "cells": [
  {
   "cell_type": "code",
   "execution_count": 10,
   "metadata": {},
   "outputs": [],
   "source": [
    "def unique_path_with_obstacles(obstacleGrid):\n",
    "    m = len(obstacleGrid)\n",
    "    n = len(obstacleGrid[0])\n",
    "\n",
    "    # 如果开始就是障碍，狗带\n",
    "    if obstacleGrid[0][0] == 1:\n",
    "        return 0\n",
    "\n",
    "    obstacleGrid[0][0] = 1\n",
    "    for i in range(1, m):\n",
    "        # 遍历第一行，如果节点等于1，说明这是障碍，设置为0,否则 obstacleGrid[i,j] = obstacleGrid[i,j-1]\n",
    "        obstacleGrid[i][0] = int(obstacleGrid[i][0] == 0 and obstacleGrid[i-1][0] == 1)\n",
    "\n",
    "    for i in range(1, n):\n",
    "        # 遍历第一列，如果节点等于1，说明这是障碍，设置为0,否则 obstacleGrid[i,j] = obstacleGrid[i-1,j]\n",
    "        obstacleGrid[0][i] = int(obstacleGrid[0][i] == 0 and obstacleGrid[0][i-1] == 1)\n",
    "\n",
    "    for i in range(1, m):\n",
    "        for j in range(1, n):\n",
    "            if obstacleGrid[i][j] == 0:\n",
    "                obstacleGrid[i][j] = obstacleGrid[i-1][j] + obstacleGrid[i][j-1]\n",
    "            else:\n",
    "                # 如果改点等于1，击沉之\n",
    "                obstacleGrid[i][j] = 0\n",
    "\n",
    "    return obstacleGrid[m-1][n-1]"
   ]
  },
  {
   "cell_type": "code",
   "execution_count": 11,
   "metadata": {},
   "outputs": [
    {
     "output_type": "execute_result",
     "data": {
      "text/plain": "2"
     },
     "metadata": {},
     "execution_count": 11
    }
   ],
   "source": [
    "aa = [\n",
    "  [0,0,0],\n",
    "  [0,1,0],\n",
    "  [0,0,0]\n",
    "]\n",
    "unique_path_with_obstacles(aa)"
   ]
  },
  {
   "cell_type": "code",
   "execution_count": 13,
   "metadata": {},
   "outputs": [
    {
     "output_type": "execute_result",
     "data": {
      "text/plain": "14"
     },
     "metadata": {},
     "execution_count": 13
    }
   ],
   "source": [
    "aa = [\n",
    "  [0,0,0,0,0,0,0,0,0,0],\n",
    "  [0,1,0,1,1,0,0,1,0,0],\n",
    "  [0,0,0,1,0,0,0,0,0,0],\n",
    "  [0,0,0,1,0,0,0,1,0,0],\n",
    "  [0,0,0,1,0,0,0,1,0,0]\n",
    "]\n",
    "unique_path_with_obstacles(aa)"
   ]
  },
  {
   "cell_type": "code",
   "execution_count": 14,
   "metadata": {},
   "outputs": [
    {
     "output_type": "execute_result",
     "data": {
      "text/plain": "9985"
     },
     "metadata": {},
     "execution_count": 14
    }
   ],
   "source": [
    "aa = [\n",
    "  [0,0,0,0,0,0,0,0,0,0,0,0,0,0,0,0,0,0,0,0],\n",
    "  [0,1,0,1,1,0,0,1,0,0,0,1,0,1,1,0,0,1,0,0],\n",
    "  [0,0,0,1,0,0,0,0,0,0,0,1,0,1,1,0,0,1,0,0],\n",
    "  [0,0,0,1,0,0,0,1,0,0,0,0,0,0,0,0,0,0,0,0],\n",
    "  [0,0,0,1,0,0,0,1,0,0,0,0,0,0,0,1,0,0,0,0],\n",
    "  [0,0,0,1,0,0,0,0,0,0,0,0,0,1,0,0,0,0,0,0],\n",
    "  [0,0,0,1,0,0,0,1,0,0,0,0,0,0,0,1,0,0,0,0],\n",
    "  [0,0,0,1,0,0,0,0,0,0,0,0,0,0,0,0,0,0,0,0],\n",
    "  [0,0,0,1,0,0,0,1,0,0,0,0,0,0,0,1,0,0,0,0]\n",
    "]\n",
    "unique_path_with_obstacles(aa)"
   ]
  },
  {
   "cell_type": "code",
   "execution_count": null,
   "metadata": {},
   "outputs": [],
   "source": []
  }
 ],
 "metadata": {
  "language_info": {
   "codemirror_mode": {
    "name": "ipython",
    "version": 3
   },
   "file_extension": ".py",
   "mimetype": "text/x-python",
   "name": "python",
   "nbconvert_exporter": "python",
   "pygments_lexer": "ipython3",
   "version": "3.7.3-final"
  },
  "orig_nbformat": 2,
  "kernelspec": {
   "name": "python3",
   "display_name": "Python 3"
  }
 },
 "nbformat": 4,
 "nbformat_minor": 2
}