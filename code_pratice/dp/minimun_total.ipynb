{
 "cells": [
  {
   "cell_type": "markdown",
   "metadata": {},
   "source": [
    "### no.120\n",
    "### 给定一个三角形，找出自顶向下的最小路径和。每一步只能移动到下一行中相邻的结点上。\n",
    "\n",
    "* 相邻的结点 在这里指的是 下标 与 上一层结点下标 相同或者等于 上一层结点下标 + 1 的两个结点。"
   ]
  },
  {
   "cell_type": "code",
   "execution_count": 5,
   "metadata": {},
   "outputs": [],
   "source": [
    "def minimum_total(triangle):\n",
    "    len_ = len(triangle)\n",
    "    # 从倒数第二行开始遍历\n",
    "    for row in range(len_-2, -1, -1):\n",
    "        for col in range(len(triangle[row])):\n",
    "            triangle[row][col] += min(triangle[row+1][col], triangle[row+1][col+1])\n",
    "\n",
    "    return triangle[0][0]"
   ]
  },
  {
   "cell_type": "code",
   "execution_count": 6,
   "metadata": {},
   "outputs": [
    {
     "output_type": "execute_result",
     "data": {
      "text/plain": "11"
     },
     "metadata": {},
     "execution_count": 6
    }
   ],
   "source": [
    "aa = [\n",
    "     [2],\n",
    "    [3,4],\n",
    "   [6,5,7],\n",
    "  [4,1,8,3]\n",
    "]\n",
    "minimum_total(aa)"
   ]
  },
  {
   "cell_type": "code",
   "execution_count": 7,
   "metadata": {},
   "outputs": [
    {
     "output_type": "execute_result",
     "data": {
      "text/plain": "12"
     },
     "metadata": {},
     "execution_count": 7
    }
   ],
   "source": [
    "aa = [\n",
    "     [2],\n",
    "    [3,4],\n",
    "   [6,5,7],\n",
    "  [4,1,8,3],\n",
    " [4,1,8,3,6]\n",
    "]\n",
    "minimum_total(aa)"
   ]
  },
  {
   "cell_type": "code",
   "execution_count": 9,
   "metadata": {},
   "outputs": [
    {
     "output_type": "execute_result",
     "data": {
      "text/plain": "17"
     },
     "metadata": {},
     "execution_count": 9
    }
   ],
   "source": [
    "aa = [\n",
    "     [2],\n",
    "    [3,4],\n",
    "   [6,5,7],\n",
    "  [4,1,8,3],\n",
    " [4,1,8,3,6],\n",
    " [3,4,2,3,2,1],\n",
    " [3,4,5,3,6,1,1],\n",
    "]\n",
    "minimum_total(aa)"
   ]
  },
  {
   "cell_type": "code",
   "execution_count": null,
   "metadata": {},
   "outputs": [],
   "source": []
  }
 ],
 "metadata": {
  "language_info": {
   "codemirror_mode": {
    "name": "ipython",
    "version": 3
   },
   "file_extension": ".py",
   "mimetype": "text/x-python",
   "name": "python",
   "nbconvert_exporter": "python",
   "pygments_lexer": "ipython3",
   "version": "3.7.3-final"
  },
  "orig_nbformat": 2,
  "kernelspec": {
   "name": "python3",
   "display_name": "Python 3"
  }
 },
 "nbformat": 4,
 "nbformat_minor": 2
}