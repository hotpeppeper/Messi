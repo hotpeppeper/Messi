{
 "cells": [
  {
   "cell_type": "markdown",
   "metadata": {},
   "source": [
    "### no.95\n",
    "### 给定一个整数 n，生成所有由 1 ... n 为节点所组成的二叉搜索树。\n",
    "输入: 3\n",
    "输出:\n",
    "\\[\n",
    "  \\[1,null,3,2\\],\n",
    "  \\[3,2,null,1\\],\n",
    "  \\[3,1,null,null,2\\],\n",
    "  \\[2,1,3\\],\n",
    "  \\[1,null,2,null,3\\]\n",
    "\\]\n"
   ]
  },
  {
   "cell_type": "code",
   "execution_count": 1,
   "metadata": {},
   "outputs": [],
   "source": [
    "class TreeNode:\n",
    "    def __init__(self, x):\n",
    "        self.val = x\n",
    "        self.left = None\n",
    "        self.right = None\n"
   ]
  },
  {
   "cell_type": "markdown",
   "metadata": {},
   "source": [
    "* 首先计数要构建二叉搜索树的数量，是卡特兰数 $G(n)=\\sum_{i=1}^nG(i-1)*G(n-i)$\n",
    "* 从序列`1...n`中取出数字i，作为当前树的树根，剩余`i-1`个元素可由于左子树，`n-i`个元素作为右子树节点\n",
    "* 对`1...i-1`重复上述过程构建左子树，对`i+1...n`重复，构建右子树"
   ]
  },
  {
   "cell_type": "code",
   "execution_count": null,
   "metadata": {},
   "outputs": [],
   "source": [
    "def generate_trees(n):\n",
    "    def _dfs(start, end):\n",
    "        if start > end:\n",
    "            return [None, ]\n",
    "        all_trees = list()\n",
    "\n",
    "        for i in range(start, end+1):\n",
    "            # 以i为根节点的所有左子树\n",
    "            left_trees = _dfs(start, i-1)\n",
    "            # 以i为根节点的所有右子树\n",
    "            right_trees = _dfs(i+1, end)\n",
    "\n",
    "            for l in left_trees:\n",
    "                for r in right_trees:\n",
    "                    cur = TreeNode(i)\n",
    "                    cur.left = l\n",
    "                    cur.right = r\n",
    "                    all_trees.append(cur)\n",
    "        return all_trees\n",
    "\n",
    "    return _dfs(1, n) if n else []"
   ]
  }
 ],
 "metadata": {
  "language_info": {
   "codemirror_mode": {
    "name": "ipython",
    "version": 3
   },
   "file_extension": ".py",
   "mimetype": "text/x-python",
   "name": "python",
   "nbconvert_exporter": "python",
   "pygments_lexer": "ipython3",
   "version": "3.7.3-final"
  },
  "orig_nbformat": 2,
  "kernelspec": {
   "name": "python3",
   "display_name": "Python 3"
  }
 },
 "nbformat": 4,
 "nbformat_minor": 2
}