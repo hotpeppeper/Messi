{
 "cells": [
  {
   "cell_type": "markdown",
   "metadata": {},
   "source": [
    "### no.96\n",
    "### 给定一个整数 n，求以 1 ... n 为节点组成的二叉搜索树有多少种？"
   ]
  },
  {
   "cell_type": "markdown",
   "metadata": {},
   "source": [
    "* 假设n个节点在二叉树个个数是G(n)，令f(i)为以i为根的二叉搜索树的个数，则\n",
    "$$\n",
    "G(n) = \\sum_{i=0}^nf(i)\n",
    "$$\n",
    "* 当i为根节点时，其左子树节点个数为i-1个，右子树的节点为n-i，则\n",
    "$f(i)=G(i-1)*G(n-i)$\n",
    "* 综合两个公式得到卡特兰数公式\n",
    "$$\n",
    "G(n) = \\sum_{i=1}^nG(i-1)*G(n-i)\n",
    "$$"
   ]
  },
  {
   "cell_type": "code",
   "execution_count": 4,
   "metadata": {},
   "outputs": [],
   "source": [
    "def num_trees(n):\n",
    "    dp = [0] * (n+1)\n",
    "    dp[0] = dp[1] = 1\n",
    "    for i in range(2, n+1):\n",
    "        for j in range(i+1):\n",
    "            dp[i] += dp[j-1] * dp[i - j]\n",
    "\n",
    "    return dp[n]"
   ]
  },
  {
   "cell_type": "code",
   "execution_count": 5,
   "metadata": {},
   "outputs": [
    {
     "output_type": "execute_result",
     "data": {
      "text/plain": "5"
     },
     "metadata": {},
     "execution_count": 5
    }
   ],
   "source": [
    "num_trees(3)"
   ]
  },
  {
   "cell_type": "code",
   "execution_count": 6,
   "metadata": {},
   "outputs": [
    {
     "output_type": "execute_result",
     "data": {
      "text/plain": "14"
     },
     "metadata": {},
     "execution_count": 6
    }
   ],
   "source": [
    "num_trees(4)"
   ]
  },
  {
   "cell_type": "code",
   "execution_count": null,
   "metadata": {},
   "outputs": [],
   "source": []
  }
 ],
 "metadata": {
  "language_info": {
   "codemirror_mode": {
    "name": "ipython",
    "version": 3
   },
   "file_extension": ".py",
   "mimetype": "text/x-python",
   "name": "python",
   "nbconvert_exporter": "python",
   "pygments_lexer": "ipython3",
   "version": "3.7.3-final"
  },
  "orig_nbformat": 2,
  "kernelspec": {
   "name": "python3",
   "display_name": "Python 3"
  }
 },
 "nbformat": 4,
 "nbformat_minor": 2
}