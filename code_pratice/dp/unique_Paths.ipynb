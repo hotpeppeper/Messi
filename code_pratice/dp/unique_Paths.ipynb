{
 "cells": [
  {
   "cell_type": "markdown",
   "metadata": {},
   "source": [
    "### no.62\n",
    "### 一个机器人位于一个 m x n 网格的左上角 （起始点在下图中标记为“Start” ）。机器人每次只能向下或者向右移动一步。### 机器人试图达到网格的右下角（在下图中标记为“Finish”）。问总共有多少条不同的路径？"
   ]
  },
  {
   "cell_type": "code",
   "execution_count": 2,
   "metadata": {},
   "outputs": [],
   "source": [
    "import math"
   ]
  },
  {
   "cell_type": "markdown",
   "metadata": {},
   "source": [
    "### 思路一： 排列组合\n",
    "* 可化为求C(m+n-2, m-1), 即一共有m行n列，其中需要向下走m-1步，向右走n-1步，一共走m+n-2步"
   ]
  },
  {
   "cell_type": "code",
   "execution_count": 3,
   "metadata": {},
   "outputs": [],
   "source": [
    "def unique_paths(m, n):\n",
    "    return int(math.factorial(m+n-2)/math.factorial(m-1)/math.factorial(n-1))"
   ]
  },
  {
   "cell_type": "code",
   "execution_count": 4,
   "metadata": {},
   "outputs": [
    {
     "output_type": "execute_result",
     "data": {
      "text/plain": "3"
     },
     "metadata": {},
     "execution_count": 4
    }
   ],
   "source": [
    "unique_paths(3,2)"
   ]
  },
  {
   "cell_type": "code",
   "execution_count": 5,
   "metadata": {},
   "outputs": [
    {
     "output_type": "execute_result",
     "data": {
      "text/plain": "28"
     },
     "metadata": {},
     "execution_count": 5
    }
   ],
   "source": [
    "unique_paths(7, 3)"
   ]
  },
  {
   "cell_type": "markdown",
   "metadata": {},
   "source": [
    "### DP\n",
    "1. 状态转移方程 dp\\[i\\]\\[j\\] = dp\\[i-1\\]\\[j\\] + dp\\[i\\]\\[j-1\\]\n",
    "2. 边界条件, 当i=0或者j=0的时候会越界"
   ]
  },
  {
   "cell_type": "code",
   "execution_count": null,
   "metadata": {},
   "outputs": [],
   "source": [
    "def unique_Paths(m, n):\n",
    "    pre = [1] * n\n",
    "    cur = [1] * n\n",
    "    for i in range(1, m):\n",
    "        for j in range(1, n):\n",
    "            cur[j] = pre[j] + cur[j - 1]\n",
    "        pre = cur[:]\n",
    "    return pre[-1]"
   ]
  },
  {
   "cell_type": "code",
   "execution_count": 10,
   "metadata": {},
   "outputs": [],
   "source": [
    "def unique_paths(m, n):\n",
    "    cur = [1] * n\n",
    "    for i in range(1, m):\n",
    "        for j in range(1, n):\n",
    "            cur[j] += cur[j - 1]\n",
    "    \n",
    "    return cur[-1]"
   ]
  },
  {
   "cell_type": "code",
   "execution_count": 11,
   "metadata": {},
   "outputs": [
    {
     "output_type": "execute_result",
     "data": {
      "text/plain": "28"
     },
     "metadata": {},
     "execution_count": 11
    }
   ],
   "source": [
    "unique_paths(7, 3)"
   ]
  },
  {
   "cell_type": "code",
   "execution_count": null,
   "metadata": {},
   "outputs": [],
   "source": []
  }
 ],
 "metadata": {
  "language_info": {
   "codemirror_mode": {
    "name": "ipython",
    "version": 3
   },
   "file_extension": ".py",
   "mimetype": "text/x-python",
   "name": "python",
   "nbconvert_exporter": "python",
   "pygments_lexer": "ipython3",
   "version": "3.7.3-final"
  },
  "orig_nbformat": 2,
  "kernelspec": {
   "name": "python3",
   "display_name": "Python 3"
  }
 },
 "nbformat": 4,
 "nbformat_minor": 2
}