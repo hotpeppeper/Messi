{
 "cells": [
  {
   "cell_type": "markdown",
   "metadata": {},
   "source": [
    "### no.139 单词拆分\n",
    "* 给定一个非空字符串 s 和一个包含非空单词列表的字典 wordDict，判定 s 是否可以被空格拆分为一个或多个在字典中出现的单词。\n",
    "#### 说明：\n",
    "* 拆分时可以重复使用字典中的单词。\n",
    "* 你可以假设字典中没有重复的单词。\n",
    "\n",
    "```\n",
    "输入 s = \"leetcode\", wordDict = [\"leet\", \"code\"]\n",
    "输出 true\n",
    "返回 true 因为 \"leetcode\" 可以被拆分成 \"leet code\"。\n",
    "```"
   ]
  },
  {
   "cell_type": "code",
   "execution_count": 1,
   "metadata": {},
   "outputs": [],
   "source": [
    "def word_break(s, wordDict):\n",
    "    n = len(s)\n",
    "    dp = [False] * (n+1)\n",
    "    # 0位表示空字符\n",
    "    dp[0] = True\n",
    "    for i in range(n):\n",
    "        for j in range(i+1, n+1):\n",
    "            if dp[i] and (s[i:j] in  wordDict):\n",
    "                dp[j] = True\n",
    "\n",
    "    return dp[-1]"
   ]
  },
  {
   "cell_type": "code",
   "execution_count": 2,
   "metadata": {},
   "outputs": [
    {
     "output_type": "execute_result",
     "data": {
      "text/plain": "True"
     },
     "metadata": {},
     "execution_count": 2
    }
   ],
   "source": [
    "word_break('leetcode', [\"leet\", \"code\"])"
   ]
  },
  {
   "cell_type": "code",
   "execution_count": 3,
   "metadata": {},
   "outputs": [],
   "source": [
    "import functools\n",
    "def word_break(s, wordDict):\n",
    "    @functools.lru_cache(None)\n",
    "    def br(s):\n",
    "        if not s:\n",
    "            return True\n",
    "        res = False\n",
    "        for i in range(1, len(s) + 1):\n",
    "            if s[:i] in wordDict:\n",
    "                res = br(s[i:]) or res\n",
    "        return res\n",
    "    return br(s)"
   ]
  },
  {
   "cell_type": "code",
   "execution_count": 4,
   "metadata": {},
   "outputs": [
    {
     "output_type": "execute_result",
     "data": {
      "text/plain": "True"
     },
     "metadata": {},
     "execution_count": 4
    }
   ],
   "source": [
    "word_break('leetcode', [\"leet\", \"code\"])"
   ]
  },
  {
   "cell_type": "code",
   "execution_count": null,
   "metadata": {},
   "outputs": [],
   "source": []
  }
 ],
 "metadata": {
  "language_info": {
   "codemirror_mode": {
    "name": "ipython",
    "version": 3
   },
   "file_extension": ".py",
   "mimetype": "text/x-python",
   "name": "python",
   "nbconvert_exporter": "python",
   "pygments_lexer": "ipython3",
   "version": "3.7.3-final"
  },
  "orig_nbformat": 2,
  "kernelspec": {
   "name": "python3",
   "display_name": "Python 3"
  }
 },
 "nbformat": 4,
 "nbformat_minor": 2
}