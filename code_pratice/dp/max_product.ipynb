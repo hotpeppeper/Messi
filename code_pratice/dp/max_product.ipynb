{
 "cells": [
  {
   "cell_type": "markdown",
   "metadata": {},
   "source": [
    "### no.152. 乘积最大子数组\n",
    "\n",
    "给你一个整数数组 nums ，请你找出数组中乘积最大的连续子数组（该子数组中至少包含一个数字），并返回该子数组所对应的乘积。\n",
    "\n",
    "```\n",
    "输入: [2,3,-2,4]\n",
    "输出: 6\n",
    "解释: 子数组 [2,3] 有最大乘积 6。\n",
    "```"
   ]
  },
  {
   "cell_type": "code",
   "execution_count": 5,
   "metadata": {},
   "outputs": [],
   "source": [
    "def max_product(nums):\n",
    "    if len(nums) == 0:\n",
    "        return 0\n",
    "    if len(nums) == 1:\n",
    "        return nums[0]\n",
    "\n",
    "    res = nums[0]\n",
    "    pre_pos, pre_neg = nums[0], nums[0]\n",
    "    for i in range(1, len(nums)):\n",
    "        pos = pre_pos * nums[i]\n",
    "        neg = pre_neg * nums[i]\n",
    "        # 因为当前nums[i]可正可负，所以得到的pos，neg大小关系不确定\n",
    "        pre_pos = max(pos, neg, nums[i])\n",
    "        pre_neg = min(pos, neg, nums[i])\n",
    "\n",
    "        res = max(res, pre_pos)\n",
    "\n",
    "    return res"
   ]
  },
  {
   "cell_type": "code",
   "execution_count": 6,
   "metadata": {},
   "outputs": [
    {
     "output_type": "execute_result",
     "data": {
      "text/plain": "6"
     },
     "metadata": {},
     "execution_count": 6
    }
   ],
   "source": [
    "max_product([2,3,-1,4])"
   ]
  },
  {
   "cell_type": "code",
   "execution_count": 7,
   "metadata": {},
   "outputs": [
    {
     "output_type": "execute_result",
     "data": {
      "text/plain": "24"
     },
     "metadata": {},
     "execution_count": 7
    }
   ],
   "source": [
    "max_product([2,3,-1,-4])"
   ]
  },
  {
   "cell_type": "code",
   "execution_count": 8,
   "metadata": {},
   "outputs": [
    {
     "output_type": "execute_result",
     "data": {
      "text/plain": "384"
     },
     "metadata": {},
     "execution_count": 8
    }
   ],
   "source": [
    "max_product([2,3,-1,4,8,-2])"
   ]
  },
  {
   "cell_type": "code",
   "execution_count": 18,
   "metadata": {},
   "outputs": [],
   "source": [
    "# def max_product(nums):\n",
    "#     res = float('-inf')\n",
    "#     pos, neg = 1, 1\n",
    "#     for num in nums:\n",
    "#         if num < 0:\n",
    "#             pos, neg = neg, pos\n",
    "#         if num == 0:\n",
    "#             pos, neg = 0, 0\n",
    "#         pos = max(pos*num, num)\n",
    "#         neg = min(neg*num, neg)\n",
    "#         res = max(res, pos)\n",
    "#     return res"
   ]
  },
  {
   "cell_type": "code",
   "execution_count": 19,
   "metadata": {},
   "outputs": [
    {
     "output_type": "stream",
     "name": "stdout",
     "text": "2\n1\n2\n*******\n6\n1\n6\n*******\n-1\n-6\n6\n*******\n24\n-1\n24\n*******\n"
    },
    {
     "output_type": "execute_result",
     "data": {
      "text/plain": "24"
     },
     "metadata": {},
     "execution_count": 19
    }
   ],
   "source": [
    "max_product([2,3,-1,-4])"
   ]
  },
  {
   "cell_type": "code",
   "execution_count": 20,
   "metadata": {},
   "outputs": [
    {
     "output_type": "stream",
     "name": "stdout",
     "text": "2\n1\n2\n*******\n6\n1\n6\n*******\n-1\n-6\n6\n*******\n4\n-24\n6\n*******\n32\n-192\n32\n*******\n384\n-64\n384\n*******\n"
    },
    {
     "output_type": "execute_result",
     "data": {
      "text/plain": "384"
     },
     "metadata": {},
     "execution_count": 20
    }
   ],
   "source": [
    "max_product([2,3,-1,4,8,-2])"
   ]
  },
  {
   "cell_type": "code",
   "execution_count": 21,
   "metadata": {},
   "outputs": [
    {
     "output_type": "stream",
     "name": "stdout",
     "text": "-1\n-1\n-1\n*******\n0\n0\n0\n*******\n0\n0\n0\n*******\n"
    },
    {
     "output_type": "execute_result",
     "data": {
      "text/plain": "0"
     },
     "metadata": {},
     "execution_count": 21
    }
   ],
   "source": [
    "max_product([-1,0,-2])"
   ]
  },
  {
   "cell_type": "code",
   "execution_count": null,
   "metadata": {},
   "outputs": [],
   "source": []
  }
 ],
 "metadata": {
  "language_info": {
   "codemirror_mode": {
    "name": "ipython",
    "version": 3
   },
   "file_extension": ".py",
   "mimetype": "text/x-python",
   "name": "python",
   "nbconvert_exporter": "python",
   "pygments_lexer": "ipython3",
   "version": "3.7.3-final"
  },
  "orig_nbformat": 2,
  "kernelspec": {
   "name": "python3",
   "display_name": "Python 3"
  }
 },
 "nbformat": 4,
 "nbformat_minor": 2
}