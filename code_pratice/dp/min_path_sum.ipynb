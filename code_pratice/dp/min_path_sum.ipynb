{
 "cells": [
  {
   "cell_type": "markdown",
   "metadata": {},
   "source": [
    "### no.64\n",
    "### 给定一个包含非负整数的 m x n 网格，请找出一条从左上角到右下角的路径，使得路径上的数字总和为最小。说明：每次只能向下或者向右移动一步。"
   ]
  },
  {
   "cell_type": "markdown",
   "metadata": {},
   "source": [
    "* 思路\n",
    "* 总左上角开始，到有下角，遍历每个位置\n",
    "1. 边界只能横向或纵向移动，先处理边界\n",
    "2. 计算给位置的值+min(左边值,右边值)\n",
    "3. 返回grid\\[-1\\]\\[-1\\]的值"
   ]
  },
  {
   "cell_type": "code",
   "execution_count": 12,
   "metadata": {},
   "outputs": [],
   "source": [
    "def min_path_sum(grid):\n",
    "    m = len(grid)\n",
    "    n = len(grid[0])\n",
    "\n",
    "    # 第0行\n",
    "    for i in range(1, n):\n",
    "        grid[0][i] = grid[0][i-1] + grid[0][i]\n",
    "\n",
    "    # 第0列\n",
    "    for i in range(1, m):\n",
    "        grid[i][0] = grid[i-1][0] + grid[i][0]\n",
    "    for i in range(1, m):\n",
    "        for j in range(1, n):\n",
    "            grid[i][j] = grid[i][j] + min(grid[i-1][j], grid[i][j-1])\n",
    "\n",
    "    return grid[-1][-1]"
   ]
  },
  {
   "cell_type": "code",
   "execution_count": 13,
   "metadata": {},
   "outputs": [
    {
     "output_type": "execute_result",
     "data": {
      "text/plain": "7"
     },
     "metadata": {},
     "execution_count": 13
    }
   ],
   "source": [
    "aa = [\n",
    "  [1,3,1],\n",
    "  [1,5,1],\n",
    "  [4,2,1]\n",
    "]\n",
    "min_path_sum(aa)"
   ]
  },
  {
   "cell_type": "code",
   "execution_count": 15,
   "metadata": {},
   "outputs": [
    {
     "output_type": "execute_result",
     "data": {
      "text/plain": "10"
     },
     "metadata": {},
     "execution_count": 15
    }
   ],
   "source": [
    "aa = [\n",
    "  [1,3,1,1],\n",
    "  [1,5,1,2],\n",
    "  [4,2,1,1],\n",
    "  [4,2,2,1],\n",
    "  [4,2,1,1]\n",
    "]\n",
    "min_path_sum(aa)"
   ]
  },
  {
   "cell_type": "code",
   "execution_count": null,
   "metadata": {},
   "outputs": [],
   "source": []
  }
 ],
 "metadata": {
  "language_info": {
   "codemirror_mode": {
    "name": "ipython",
    "version": 3
   },
   "file_extension": ".py",
   "mimetype": "text/x-python",
   "name": "python",
   "nbconvert_exporter": "python",
   "pygments_lexer": "ipython3",
   "version": "3.7.3-final"
  },
  "orig_nbformat": 2,
  "kernelspec": {
   "name": "python3",
   "display_name": "Python 3"
  }
 },
 "nbformat": 4,
 "nbformat_minor": 2
}