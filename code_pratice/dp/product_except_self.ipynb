{
 "cells": [
  {
   "cell_type": "markdown",
   "metadata": {},
   "source": [
    "### no.238. 除自身以外数组的乘积\n",
    "\n",
    "给你一个长度为 n 的整数数组 nums，其中 n > 1，返回输出数组 output ，其中 output\\[i\\] 等于 nums 中除 nums\\[i\\] 之外其余各元素的乘积。\n",
    "\n",
    "```\n",
    "输入: [1,2,3,4]\n",
    "输出: [24,12,8,6]\n",
    "```"
   ]
  },
  {
   "cell_type": "code",
   "execution_count": 33,
   "metadata": {},
   "outputs": [],
   "source": [
    "def product_except_self(nums):\n",
    "    if len(nums) == 0:\n",
    "        return 0\n",
    "    if len(nums) == 1:\n",
    "        return nums[0]\n",
    "\n",
    "    dp = [1] * (len(nums) + 1)\n",
    "    res = []\n",
    "    for i in range(len(nums)):\n",
    "        tmp = 1\n",
    "        for num in nums[i+1:]:\n",
    "            tmp *= num\n",
    "        res.append(tmp * dp[i])\n",
    "        dp[i+1] = dp[i] * nums[i]\n",
    "    return res"
   ]
  },
  {
   "cell_type": "code",
   "execution_count": 34,
   "metadata": {},
   "outputs": [
    {
     "name": "stdout",
     "output_type": "stream",
     "text": [
      "[1, 1, 1, 1, 1]\n",
      "[1, 1, 2, 1, 1]\n",
      "[1, 1, 2, 6, 1]\n",
      "[1, 1, 2, 6, 24]\n"
     ]
    },
    {
     "data": {
      "text/plain": [
       "[24, 12, 8, 6]"
      ]
     },
     "execution_count": 34,
     "metadata": {},
     "output_type": "execute_result"
    }
   ],
   "source": [
    "product_except_self([1,2,3,4])"
   ]
  },
  {
   "cell_type": "code",
   "execution_count": 36,
   "metadata": {},
   "outputs": [],
   "source": [
    "def product_except_self(nums):\n",
    "    len_ = len(nums)\n",
    "\n",
    "    left, right, res = [1]*len_, [1]*len_, [1]*len_\n",
    "\n",
    "    for i in range(1, len_):\n",
    "        left[i] = left[i-1] * nums[i-1]\n",
    "\n",
    "    # for i in reversed(range(len_ - 1)):\n",
    "    for i in range(len_-2, -1, -1):\n",
    "        right[i] = nums[i + 1] * right[i + 1]\n",
    "\n",
    "    for i in range(len_):\n",
    "        res[i] = left[i] * right[i]\n",
    "\n",
    "    return res"
   ]
  },
  {
   "cell_type": "code",
   "execution_count": 37,
   "metadata": {},
   "outputs": [
    {
     "data": {
      "text/plain": [
       "[24, 12, 8, 6]"
      ]
     },
     "execution_count": 37,
     "metadata": {},
     "output_type": "execute_result"
    }
   ],
   "source": [
    "product_except_self([1,2,3,4])"
   ]
  },
  {
   "cell_type": "code",
   "execution_count": 38,
   "metadata": {},
   "outputs": [
    {
     "data": {
      "text/plain": [
       "[1,\n",
       " 1,\n",
       " -1,\n",
       " 1,\n",
       " 1,\n",
       " -1,\n",
       " 1,\n",
       " 1,\n",
       " 1,\n",
       " -1,\n",
       " -1,\n",
       " 1,\n",
       " -1,\n",
       " -1,\n",
       " -1,\n",
       " -1,\n",
       " 1,\n",
       " -1,\n",
       " -1,\n",
       " 1,\n",
       " 1,\n",
       " -1,\n",
       " 1,\n",
       " 1,\n",
       " 1,\n",
       " -1,\n",
       " -1,\n",
       " 1,\n",
       " 1,\n",
       " 1,\n",
       " 1,\n",
       " 1,\n",
       " -1,\n",
       " -1,\n",
       " -1,\n",
       " -1,\n",
       " -1,\n",
       " -1,\n",
       " 1,\n",
       " 1,\n",
       " -1,\n",
       " -1,\n",
       " 1,\n",
       " 1,\n",
       " -1,\n",
       " 1,\n",
       " -1,\n",
       " -1,\n",
       " -1,\n",
       " 1]"
      ]
     },
     "execution_count": 38,
     "metadata": {},
     "output_type": "execute_result"
    }
   ],
   "source": [
    "aa = [-1,-1,1,-1,-1,1,-1,-1,-1,1,1,-1,1,1,1,1,-1,1,1,-1,-1,1,-1,-1,-1,1,1,-1,-1,-1,-1,-1,1,1,1,1,1,1,-1,-1,1,1,-1,-1,1,-1,1,1,1,-1]\n",
    "product_except_self(aa)"
   ]
  },
  {
   "cell_type": "code",
   "execution_count": 39,
   "metadata": {},
   "outputs": [],
   "source": [
    "def product_except_self(nums):\n",
    "    len_ = len(nums)\n",
    "    res = [1] * len_\n",
    "\n",
    "    for i in range(1, len_):\n",
    "        res[i] = nums[i - 1] * res[i - 1]\n",
    "    \n",
    "    R = 1\n",
    "    for i in reversed(range(len_)):\n",
    "        # 对于索引i, 左边的乘积为res[i]， 右边的乘积为R\n",
    "        res[i] *= R\n",
    "        # R 为右边所有数的乘积\n",
    "        R *= nums[i]\n",
    "\n",
    "    return res"
   ]
  },
  {
   "cell_type": "code",
   "execution_count": 40,
   "metadata": {},
   "outputs": [
    {
     "data": {
      "text/plain": [
       "[24, 12, 8, 6]"
      ]
     },
     "execution_count": 40,
     "metadata": {},
     "output_type": "execute_result"
    }
   ],
   "source": [
    "product_except_self([1,2,3,4])"
   ]
  },
  {
   "cell_type": "code",
   "execution_count": null,
   "metadata": {},
   "outputs": [],
   "source": []
  }
 ],
 "metadata": {
  "kernelspec": {
   "display_name": "Python 3",
   "language": "python",
   "name": "python3"
  },
  "language_info": {
   "codemirror_mode": {
    "name": "ipython",
    "version": 3
   },
   "file_extension": ".py",
   "mimetype": "text/x-python",
   "name": "python",
   "nbconvert_exporter": "python",
   "pygments_lexer": "ipython3",
   "version": "3.7.3-final"
  }
 },
 "nbformat": 4,
 "nbformat_minor": 2
}
