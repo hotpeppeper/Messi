{
 "cells": [
  {
   "cell_type": "markdown",
   "metadata": {},
   "source": [
    "### no.18. 四数之和\n",
    "\n",
    "给定一个包含 n 个整数的数组 nums 和一个目标值 target，判断 nums 中是否存在四个元素 a，b，c 和 d ，使得 a + b + c + d 的值与 target 相等？找出所有满足条件且不重复的四元组。\n",
    "\n",
    "```\n",
    "给定数组 nums = [1, 0, -1, 0, -2, 2]，和 target = 0。\n",
    "\n",
    "满足要求的四元组集合为：\n",
    "[\n",
    "  [-1,  0, 0, 1],\n",
    "  [-2, -1, 1, 2],\n",
    "  [-2,  0, 0, 2]\n",
    "]\n",
    "```"
   ]
  },
  {
   "cell_type": "code",
   "execution_count": 10,
   "metadata": {},
   "outputs": [],
   "source": [
    "def four_sum(nums, target):\n",
    "    res = list()\n",
    "    if not nums or len(nums) < 4:\n",
    "        return []\n",
    "\n",
    "    nums.sort()\n",
    "    len_ = len(nums)\n",
    "    # 定义4个指针k,i,j,h，k从0开始遍历，i从k+1开始遍历，j指向i+1，h指向数组最大值\n",
    "    for k in range(len_ - 3):\n",
    "        # 当前值与前一个值相等，忽略之\n",
    "        if k > 0 and nums[k] == nums[k - 1]:\n",
    "            continue\n",
    "        # 获取当前的最小值\n",
    "        min1 = nums[k] + nums[k+1] + nums[k+2] + nums[k+3]\n",
    "        if min1 > target:\n",
    "            # 最小值比目标值大，则后面的数组元素更加不可能\n",
    "            break\n",
    "        # 获取当前的最大值\n",
    "        max1 = nums[k] + nums[len_-1] + nums[len_-2] + nums[len_-3]\n",
    "        if max1 < target:\n",
    "            # 如果当前最大小于target，则忽略数组中剩余的值，进行下一次循环\n",
    "            continue\n",
    "        for i in range(k+1, len_-2):\n",
    "            if i > k + 1 and nums[i] == nums[i-1]:\n",
    "                continue\n",
    "            j = i + 1\n",
    "\n",
    "            h = len_ - 1\n",
    "            min2 = nums[k] + nums[i] + nums[j] + nums[j+1]\n",
    "            if min2 > target:\n",
    "                continue\n",
    "            max2 = nums[k] + nums[i] + nums[h] + nums[h-1]\n",
    "            if max2 < target:\n",
    "                continue\n",
    "            while j < h:\n",
    "                cur = nums[k] + nums[i] + nums[j] + nums[h]\n",
    "                if cur == target:\n",
    "                    res.append([nums[k], nums[i], nums[j], nums[h]])\n",
    "                    j += 1\n",
    "                    while j < h and nums[j] == nums[j - 1]:\n",
    "                        j += 1\n",
    "                    h -= 1\n",
    "                    while j < h and nums[h] == nums[h + 1]:\n",
    "                        h -= 1\n",
    "                elif cur > target:\n",
    "                    h -= 1\n",
    "                elif cur < target:\n",
    "                    j += 1\n",
    "    return res"
   ]
  },
  {
   "cell_type": "code",
   "execution_count": 11,
   "metadata": {},
   "outputs": [
    {
     "output_type": "execute_result",
     "data": {
      "text/plain": "[[-2, -1, 1, 2], [-2, 0, 0, 2], [-1, 0, 0, 1]]"
     },
     "metadata": {},
     "execution_count": 11
    }
   ],
   "source": [
    "four_sum([1, 0, -1, 0, -2, 2], 0)"
   ]
  },
  {
   "cell_type": "code",
   "execution_count": null,
   "metadata": {},
   "outputs": [],
   "source": []
  }
 ],
 "metadata": {
  "language_info": {
   "codemirror_mode": {
    "name": "ipython",
    "version": 3
   },
   "file_extension": ".py",
   "mimetype": "text/x-python",
   "name": "python",
   "nbconvert_exporter": "python",
   "pygments_lexer": "ipython3",
   "version": "3.7.3-final"
  },
  "orig_nbformat": 2,
  "kernelspec": {
   "name": "python3",
   "display_name": "Python 3"
  }
 },
 "nbformat": 4,
 "nbformat_minor": 2
}