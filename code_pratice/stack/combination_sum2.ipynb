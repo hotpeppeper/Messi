{
 "cells": [
  {
   "cell_type": "markdown",
   "metadata": {},
   "source": [
    "* 给定一个数组 candidates 和一个目标数 target ，找出 candidates 中所有可以使数字和为 target 的组合。\n",
    "* candidates 中的每个数字在每个组合中只能使用一次。\n",
    "* 所有数字（包括目标数）都是正整数。\n",
    "* 解集不能包含重复的组合\n",
    "  输入: candidates = \\[10,1,2,7,6,1,5\\], target = 8,\n",
    "  所求解集为:\n",
    "  \\[\n",
    "    \\[1, 7\\],\n",
    "    \\[1, 2, 5\\],\n",
    "    \\[2, 6\\],\n",
    "    \\[1, 1, 6\\]\n",
    "  \\]\n"
   ]
  },
  {
   "cell_type": "code",
   "execution_count": 7,
   "metadata": {},
   "outputs": [],
   "source": [
    "class CombinationSum:\n",
    "\n",
    "    def __init__(self, candidates, target):\n",
    "        self.candidates = candidates\n",
    "        self.candidates.sort()\n",
    "        self.target = target\n",
    "        self.size = len(candidates)\n",
    "        self.res = []\n",
    "\n",
    "    def combination_sum(self):\n",
    "        if self.size == 0:\n",
    "            return []\n",
    "\n",
    "        self.__dfs(0, [], self.target)\n",
    "\n",
    "        return self.res\n",
    "        \n",
    "\n",
    "    def __dfs(self, begin, path, residue):\n",
    "        if residue == 0:\n",
    "            self.res.append(path[:])\n",
    "            return\n",
    "\n",
    "        for i in range(begin, self.size):\n",
    "            if self.candidates[i] > residue:\n",
    "                break\n",
    "            if i > begin and self.candidates[i - 1] == self.candidates[i]:\n",
    "                continue\n",
    "\n",
    "            path.append(self.candidates[i])\n",
    "            self.__dfs(i+1, path, residue - self.candidates[i])\n",
    "            path.pop()\n"
   ]
  },
  {
   "cell_type": "code",
   "execution_count": 8,
   "metadata": {},
   "outputs": [
    {
     "output_type": "execute_result",
     "data": {
      "text/plain": "[[1, 1, 6], [1, 2, 5], [1, 7], [2, 6]]"
     },
     "metadata": {},
     "execution_count": 8
    }
   ],
   "source": [
    "cs = CombinationSum([10,1,2,7,6,1,5], 8)\n",
    "cs.combination_sum()"
   ]
  },
  {
   "cell_type": "code",
   "execution_count": null,
   "metadata": {},
   "outputs": [],
   "source": []
  }
 ],
 "metadata": {
  "language_info": {
   "codemirror_mode": {
    "name": "ipython",
    "version": 3
   },
   "file_extension": ".py",
   "mimetype": "text/x-python",
   "name": "python",
   "nbconvert_exporter": "python",
   "pygments_lexer": "ipython3",
   "version": "3.7.3-final"
  },
  "orig_nbformat": 2,
  "kernelspec": {
   "name": "python3",
   "display_name": "Python 3"
  }
 },
 "nbformat": 4,
 "nbformat_minor": 2
}