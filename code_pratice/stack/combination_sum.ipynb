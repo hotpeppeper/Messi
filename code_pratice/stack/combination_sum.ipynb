{
 "cells": [
  {
   "cell_type": "code",
   "execution_count": 1,
   "metadata": {},
   "outputs": [],
   "source": [
    "from typing import List"
   ]
  },
  {
   "cell_type": "code",
   "execution_count": 3,
   "metadata": {},
   "outputs": [],
   "source": [
    "class CombinationSum:\n",
    "    def combination_sum(self, candidates, target):\n",
    "        size = len(candidates)\n",
    "        if size == 0:\n",
    "            return []\n",
    "\n",
    "        candidates.sort()\n",
    "        path = []\n",
    "        res = []\n",
    "        self._dfs(candidates, 0, size, path, res, target)\n",
    "        return res\n",
    "\n",
    "    def _dfs(self, candidates, begin, size, path, res, target):\n",
    "        if target == 0:\n",
    "            res.append(path[:])\n",
    "            return\n",
    "\n",
    "        for i in range(begin, size):\n",
    "            residue = target - candidates[i]\n",
    "            if residue < 0:\n",
    "                break\n",
    "\n",
    "            path.append(candidates[i])\n",
    "            self._dfs(candidates, i, size, path, res, residue)\n",
    "            path.pop()"
   ]
  },
  {
   "cell_type": "code",
   "execution_count": null,
   "metadata": {},
   "outputs": [],
   "source": [
    "candidates = [2, 3, 6, 7]\n",
    "target = 7\n",
    "cs = CombinationSum()\n",
    "cs.combination_sum(candidates, target)"
   ]
  }
 ],
 "metadata": {
  "language_info": {
   "codemirror_mode": {
    "name": "ipython",
    "version": 3
   },
   "file_extension": ".py",
   "mimetype": "text/x-python",
   "name": "python",
   "nbconvert_exporter": "python",
   "pygments_lexer": "ipython3",
   "version": "3.7.3-final"
  },
  "orig_nbformat": 2,
  "kernelspec": {
   "name": "python3",
   "display_name": "Python 3"
  }
 },
 "nbformat": 4,
 "nbformat_minor": 2
}