{
 "cells": [
  {
   "cell_type": "markdown",
   "metadata": {},
   "source": [
    "* 我们可以只在序列仍然保持有效时才添加或者，而不是每次都添加。我们可以通过跟踪到目前为止放置的左括号和右括号的数目来做到这一点\n",
    "* 如果左括号数量不大于 nn，我们可以放一个左括号。如果右括号数量小于左括号的数量，我们可以放一个右括号。"
   ]
  },
  {
   "cell_type": "code",
   "execution_count": 5,
   "metadata": {},
   "outputs": [],
   "source": [
    "def generate_parenthesis(n):\n",
    "    ans = list()\n",
    "    def back_track(S, l, r):\n",
    "        if len(S) == 2 * n:\n",
    "            ans.append(''.join(S))\n",
    "            return\n",
    "\n",
    "        if l < n:\n",
    "            #  左括号长度\n",
    "            S.append('(')\n",
    "            back_track(S, l+1, r)\n",
    "            S.pop()\n",
    "        if r < l:\n",
    "            #  左括号长度\n",
    "            S.append(')')\n",
    "            back_track(S, l, r+1)\n",
    "            S.pop()\n",
    "\n",
    "    back_track([], 0, 0)\n",
    "    return ans\n"
   ]
  },
  {
   "cell_type": "code",
   "execution_count": 6,
   "metadata": {},
   "outputs": [
    {
     "output_type": "execute_result",
     "data": {
      "text/plain": "['((()))', '(()())', '(())()', '()(())', '()()()']"
     },
     "metadata": {},
     "execution_count": 6
    }
   ],
   "source": [
    "generate_parenthesis(3)"
   ]
  },
  {
   "cell_type": "code",
   "execution_count": 7,
   "metadata": {},
   "outputs": [
    {
     "output_type": "execute_result",
     "data": {
      "text/plain": "['((((()))))',\n '(((()())))',\n '(((())()))',\n '(((()))())',\n '(((())))()',\n '((()(())))',\n '((()()()))',\n '((()())())',\n '((()()))()',\n '((())(()))',\n '((())()())',\n '((())())()',\n '((()))(())',\n '((()))()()',\n '(()((())))',\n '(()(()()))',\n '(()(())())',\n '(()(()))()',\n '(()()(()))',\n '(()()()())',\n '(()()())()',\n '(()())(())',\n '(()())()()',\n '(())((()))',\n '(())(()())',\n '(())(())()',\n '(())()(())',\n '(())()()()',\n '()(((())))',\n '()((()()))',\n '()((())())',\n '()((()))()',\n '()(()(()))',\n '()(()()())',\n '()(()())()',\n '()(())(())',\n '()(())()()',\n '()()((()))',\n '()()(()())',\n '()()(())()',\n '()()()(())',\n '()()()()()']"
     },
     "metadata": {},
     "execution_count": 7
    }
   ],
   "source": [
    "generate_parenthesis(5)"
   ]
  },
  {
   "cell_type": "code",
   "execution_count": null,
   "metadata": {},
   "outputs": [],
   "source": []
  }
 ],
 "metadata": {
  "language_info": {
   "codemirror_mode": {
    "name": "ipython",
    "version": 3
   },
   "file_extension": ".py",
   "mimetype": "text/x-python",
   "name": "python",
   "nbconvert_exporter": "python",
   "pygments_lexer": "ipython3",
   "version": "3.7.3-final"
  },
  "orig_nbformat": 2,
  "kernelspec": {
   "name": "python3",
   "display_name": "Python 3"
  }
 },
 "nbformat": 4,
 "nbformat_minor": 2
}