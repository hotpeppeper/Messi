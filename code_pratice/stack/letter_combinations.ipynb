{
 "cells": [
  {
   "cell_type": "markdown",
   "metadata": {},
   "source": [
    "### 给定一个仅包含数字 2-9 的字符串，返回所有它能表示的字母组合。\n",
    "### 给出数字到字母的映射如下（与电话按键相同）。注意 1 不对应任何字母。"
   ]
  },
  {
   "cell_type": "code",
   "execution_count": 6,
   "metadata": {},
   "outputs": [],
   "source": [
    "def letter_conbinations(digits):\n",
    "    letter_dict = {'2': 'abc', '3': 'def', '4': 'ghi', '5': 'jkl',\n",
    "                 '6': 'mno', '7': 'pqs', '8': 'tuv', '9': 'wxyz'}\n",
    "\n",
    "    ans = list()\n",
    "    def bt(combination, next_):\n",
    "        if len(next_) == 0:\n",
    "            # 最后一个字符\n",
    "            ans.append(combination)\n",
    "        else:\n",
    "            for c in letter_dict[next_[0]]:\n",
    "                bt(combination+c, next_[1:])\n",
    "\n",
    "    if digits:\n",
    "        bt('', digits)\n",
    "\n",
    "    return ans"
   ]
  },
  {
   "cell_type": "code",
   "execution_count": 7,
   "metadata": {},
   "outputs": [
    {
     "output_type": "execute_result",
     "data": {
      "text/plain": "['ad', 'ae', 'af', 'bd', 'be', 'bf', 'cd', 'ce', 'cf']"
     },
     "metadata": {},
     "execution_count": 7
    }
   ],
   "source": [
    "letter_conbinations('23')"
   ]
  },
  {
   "cell_type": "code",
   "execution_count": 8,
   "metadata": {},
   "outputs": [
    {
     "output_type": "execute_result",
     "data": {
      "text/plain": "['adg',\n 'adh',\n 'adi',\n 'aeg',\n 'aeh',\n 'aei',\n 'afg',\n 'afh',\n 'afi',\n 'bdg',\n 'bdh',\n 'bdi',\n 'beg',\n 'beh',\n 'bei',\n 'bfg',\n 'bfh',\n 'bfi',\n 'cdg',\n 'cdh',\n 'cdi',\n 'ceg',\n 'ceh',\n 'cei',\n 'cfg',\n 'cfh',\n 'cfi']"
     },
     "metadata": {},
     "execution_count": 8
    }
   ],
   "source": [
    "letter_conbinations('234')"
   ]
  },
  {
   "cell_type": "code",
   "execution_count": null,
   "metadata": {},
   "outputs": [],
   "source": []
  }
 ],
 "metadata": {
  "language_info": {
   "codemirror_mode": {
    "name": "ipython",
    "version": 3
   },
   "file_extension": ".py",
   "mimetype": "text/x-python",
   "name": "python",
   "nbconvert_exporter": "python",
   "pygments_lexer": "ipython3",
   "version": "3.7.3-final"
  },
  "orig_nbformat": 2,
  "kernelspec": {
   "name": "python3",
   "display_name": "Python 3"
  }
 },
 "nbformat": 4,
 "nbformat_minor": 2
}