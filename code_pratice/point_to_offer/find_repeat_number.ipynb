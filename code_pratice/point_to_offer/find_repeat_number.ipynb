{
 "cells": [
  {
   "cell_type": "markdown",
   "metadata": {},
   "source": [
    "### 剑指 Offer 03. 数组中重复的数字\n",
    "\n",
    "找出数组中重复的数字。\n",
    "\n",
    "\n",
    "在一个长度为 n 的数组 nums 里的所有数字都在 0～n-1 的范围内。数组中某些数字是重复的，但不知道有几个数字重复了，也不知道每个数字重复了几次。请找出数组中任意一个重复的数字。\n",
    "\n",
    "```\n",
    "输入：\n",
    "[2, 3, 1, 0, 2, 5, 3]\n",
    "输出：2 或 3 \n",
    "```"
   ]
  },
  {
   "cell_type": "code",
   "execution_count": 2,
   "metadata": {},
   "outputs": [],
   "source": [
    "def find_repeat_number(nums):\n",
    "    # 记录出现的数字\n",
    "    repeat = {}\n",
    "    res = -1\n",
    "    for num in nums:\n",
    "        if num in repeat:\n",
    "            res = num\n",
    "            break\n",
    "        else:\n",
    "            repeat[num] = 1\n",
    "    return res"
   ]
  },
  {
   "cell_type": "code",
   "execution_count": 3,
   "metadata": {},
   "outputs": [
    {
     "output_type": "execute_result",
     "data": {
      "text/plain": "2"
     },
     "metadata": {},
     "execution_count": 3
    }
   ],
   "source": [
    "find_repeat_number([2, 3, 1, 0, 2, 5, 3])"
   ]
  },
  {
   "cell_type": "markdown",
   "metadata": {},
   "source": [
    "### 剑指 Offer 04. 二维数组中的查找\n",
    "\n",
    "在一个 n * m 的二维数组中，每一行都按照从左到右递增的顺序排序，每一列都按照从上到下递增的顺序排序。请完成一个函数，输入这样的一个二维数组和一个整数，判断数组中是否含有该整数。\n",
    "\n",
    "```\n",
    "[\n",
    "  [1,   4,  7, 11, 15],\n",
    "  [2,   5,  8, 12, 19],\n",
    "  [3,   6,  9, 16, 22],\n",
    "  [10, 13, 14, 17, 24],\n",
    "  [18, 21, 23, 26, 30]\n",
    "]\n",
    "\n",
    "给定 target = 5，返回 true。\n",
    "给定 target = 20，返回 false。\n",
    "```"
   ]
  },
  {
   "cell_type": "code",
   "execution_count": 4,
   "metadata": {},
   "outputs": [],
   "source": [
    "def find_number_in_2darray(matrix, target):\n",
    "    if len(matrix) == 0 or len(matrix[0]) == 0:\n",
    "        return False\n",
    "    row = len(matrix)\n",
    "    column = len(matrix[0])\n",
    "    l, r = 0, len(matrix[0]) - 1\n",
    "    while l < row and r >= 0:\n",
    "        num = matrix[l][r]\n",
    "        if num == target:\n",
    "            return True\n",
    "        elif num > target:\n",
    "            # num大于target，列下标减1\n",
    "            r -= 1\n",
    "        else:\n",
    "            # num小于target，行下表减1\n",
    "            l += 1\n",
    "    return False"
   ]
  },
  {
   "cell_type": "code",
   "execution_count": 5,
   "metadata": {},
   "outputs": [
    {
     "output_type": "execute_result",
     "data": {
      "text/plain": "True"
     },
     "metadata": {},
     "execution_count": 5
    }
   ],
   "source": [
    "aa = [\n",
    "  [1,   4,  7, 11, 15],\n",
    "  [2,   5,  8, 12, 19],\n",
    "  [3,   6,  9, 16, 22],\n",
    "  [10, 13, 14, 17, 24],\n",
    "  [18, 21, 23, 26, 30]\n",
    "]\n",
    "find_number_in_2darray(aa, 5)"
   ]
  },
  {
   "cell_type": "code",
   "execution_count": 6,
   "metadata": {},
   "outputs": [
    {
     "output_type": "execute_result",
     "data": {
      "text/plain": "False"
     },
     "metadata": {},
     "execution_count": 6
    }
   ],
   "source": [
    "find_number_in_2darray(aa, 99)"
   ]
  },
  {
   "cell_type": "markdown",
   "metadata": {},
   "source": [
    "### 剑指 Offer 05. 替换空格\n",
    "请实现一个函数，把字符串 s 中的每个空格替换成\"%20\"。\n",
    "\n",
    "```\n",
    "输入：s = \"We are happy.\"\n",
    "输出：\"We%20are%20happy.\"\n",
    "```"
   ]
  },
  {
   "cell_type": "code",
   "execution_count": 7,
   "metadata": {},
   "outputs": [],
   "source": [
    "def replace_space(s):\n",
    "    res = []\n",
    "    for i in s:\n",
    "        if i == ' ':\n",
    "            res.append('%20')\n",
    "        else:\n",
    "            res.append(i)\n",
    "    return ''.join(res)"
   ]
  },
  {
   "cell_type": "code",
   "execution_count": 8,
   "metadata": {},
   "outputs": [
    {
     "output_type": "execute_result",
     "data": {
      "text/plain": "'We%20are%20happy.'"
     },
     "metadata": {},
     "execution_count": 8
    }
   ],
   "source": [
    "replace_space('We are happy.')"
   ]
  },
  {
   "cell_type": "code",
   "execution_count": 9,
   "metadata": {},
   "outputs": [
    {
     "output_type": "execute_result",
     "data": {
      "text/plain": "'We%20are%20%20%20%20%20%20happy.'"
     },
     "metadata": {},
     "execution_count": 9
    }
   ],
   "source": [
    "replace_space('We are      happy.')"
   ]
  },
  {
   "cell_type": "markdown",
   "metadata": {},
   "source": [
    "### 剑指 Offer 06. 从尾到头打印链表\n",
    "\n",
    "输入一个链表的头节点，从尾到头反过来返回每个节点的值（用数组返回）。\n",
    "```\n",
    "输入：head = [1,3,2]\n",
    "输出：[2,3,1]\n",
    "```"
   ]
  },
  {
   "cell_type": "code",
   "execution_count": 10,
   "metadata": {},
   "outputs": [],
   "source": [
    "class ListNode:\n",
    "    def __init__(self, x):\n",
    "        self.val = x\n",
    "        self.next = None"
   ]
  },
  {
   "cell_type": "code",
   "execution_count": 11,
   "metadata": {},
   "outputs": [],
   "source": [
    "def reverse_print(head: ListNode):\n",
    "    res = []\n",
    "    while head:\n",
    "        res.append(head.val)\n",
    "        head = head.next\n",
    "    return res[::-1]"
   ]
  },
  {
   "cell_type": "markdown",
   "metadata": {},
   "source": [
    "### 剑指 Offer 07. 重建二叉树\n",
    "\n",
    "输入某二叉树的前序遍历和中序遍历的结果，请重建该二叉树。假设输入的前序遍历和中序遍历的结果中都不含重复的数字。\n",
    "\n",
    "```\n",
    "前序遍历 preorder = [3,9,20,15,7]\n",
    "中序遍历 inorder = [9,3,15,20,7]\n",
    "```"
   ]
  },
  {
   "cell_type": "code",
   "execution_count": 12,
   "metadata": {},
   "outputs": [],
   "source": [
    "class TreeNode:\n",
    "    def __init__(self, x):\n",
    "        self.val = x\n",
    "        self.left = None\n",
    "        self.right = None"
   ]
  },
  {
   "cell_type": "markdown",
   "metadata": {},
   "source": [
    "* 前序遍历顺序：根节点，左子树，右子树，每个子树的遍历顺序同样满足前序遍历顺序\n",
    "* 中序遍历顺序：左子树，根节点，右子树，每个子树的遍历顺序同样满足中序遍历顺序\n",
    "* 使用前序遍历的第一个元素构建根节点\n",
    "* 创建一个栈，将根节点压栈\n",
    "* 初始化中序遍历下标0\n",
    "* 遍历前序遍历的元素，判断其上一个元素是否等于中序遍历下标的元素\n",
    "    * 若上一个元素不等于中序遍历下标元素，则当前元素为上一个元素的左子节点，并将该节点压栈\n",
    "    * 若上一个元素等于中序遍历下标元素，则从栈内弹出一个元素，同时令中序遍历的下标指向下一个元素，继续判断栈顶元素是否等于中序遍历下标指向元素，若相等则重复该操作，直到栈为空或者元素不相等。然后令当前元素为最后一个相等元素的右节点\n",
    "* 遍历结束"
   ]
  },
  {
   "cell_type": "code",
   "execution_count": 15,
   "metadata": {},
   "outputs": [],
   "source": [
    "def build_tree(preorder, inorder):\n",
    "    if len(preorder) == 0:\n",
    "        return None\n",
    "    len_ = len(preorder)\n",
    "    # 根节点为前序遍历的第一个值\n",
    "    root = TreeNode(preorder[0])\n",
    "    stack = []\n",
    "    stack.append(root)\n",
    "    inorder_index = 0\n",
    "    for i in range(1, len_):\n",
    "        pre_val = preorder[i]\n",
    "        node = stack[-1]\n",
    "        if node.val != inorder[inorder_index]:\n",
    "            # 每次比较栈顶元素和inorder[inorder_index]\n",
    "            node.left = TreeNode(pre_val)\n",
    "            stack.append(node.left)\n",
    "        else:\n",
    "            while stack and stack[-1].val == inorder[inorder_index]:\n",
    "                # 栈顶元素等于inorder[inorder_index], 弹出，inorder_index+1\n",
    "                node = stack.pop()\n",
    "                inorder_index += 1\n",
    "            node.right = TreeNode(pre_val)\n",
    "            stack.append(node.right)\n",
    "    return root"
   ]
  },
  {
   "cell_type": "markdown",
   "metadata": {},
   "source": [
    "### 剑指 Offer 09. 用两个栈实现队列\n",
    "\n",
    "用两个栈实现一个队列。队列的声明如下，请实现它的两个函数 appendTail 和 deleteHead ，分别完成在队列尾部插入整数和在队列头部删除整数的功能。(若队列中没有元素，deleteHead 操作返回 -1 )\n",
    "\n",
    "```\n",
    "输入：\n",
    "[\"CQueue\",\"appendTail\",\"deleteHead\",\"deleteHead\"]\n",
    "[[],[3],[],[]]\n",
    "输出：[null,null,3,-1]\n",
    "```\n",
    "```\n",
    "输入：\n",
    "[\"CQueue\",\"deleteHead\",\"appendTail\",\"appendTail\",\"deleteHead\",\"deleteHead\"]\n",
    "[[],[],[5],[2],[],[]]\n",
    "输出：[null,-1,null,null,5,2]\n",
    "```"
   ]
  },
  {
   "cell_type": "code",
   "execution_count": 16,
   "metadata": {},
   "outputs": [],
   "source": [
    "class CQueue:\n",
    "    def __init__(self):\n",
    "        self.stack_in = []\n",
    "        self.stack_out = []\n",
    "\n",
    "    def appendTail(self, value):\n",
    "        self.stack_in.append(value)\n",
    "\n",
    "    def deleteHead(self):\n",
    "        if not self.stack_out:\n",
    "            if not self.stack_in:\n",
    "                # 都为空\n",
    "                return -1\n",
    "            else:\n",
    "                # 将stack_in元素全部转入stack_out\n",
    "                while self.stack_in:\n",
    "                    self.stack_out.append(self.stack_in.pop())\n",
    "\n",
    "        return self.stack_out.pop()"
   ]
  },
  {
   "cell_type": "markdown",
   "metadata": {},
   "source": [
    "### 剑指 Offer 10- I. 斐波那契数列\n",
    "\n",
    "写一个函数，输入 n ，求斐波那契（Fibonacci）数列的第 n 项。斐波那契数列的定义如下：\n",
    "```\n",
    "F(0) = 0,   F(1) = 1\n",
    "F(N) = F(N - 1) + F(N - 2), 其中 N > 1.\n",
    "```"
   ]
  },
  {
   "cell_type": "code",
   "execution_count": 17,
   "metadata": {},
   "outputs": [],
   "source": [
    "def fib(n):\n",
    "    if n == 0:\n",
    "        return 0\n",
    "    stack = [0]*n\n",
    "    stack[0] = stack[1] = 1\n",
    "    for i in range(2, n+1):\n",
    "        stack[i] = stack[i - 1] + stack[i - 2]\n",
    "    return stack[-1]"
   ]
  },
  {
   "cell_type": "code",
   "execution_count": 19,
   "metadata": {},
   "outputs": [
    {
     "output_type": "execute_result",
     "data": {
      "text/plain": "5"
     },
     "metadata": {},
     "execution_count": 19
    }
   ],
   "source": [
    "fib(5)"
   ]
  },
  {
   "cell_type": "code",
   "execution_count": null,
   "metadata": {},
   "outputs": [],
   "source": []
  }
 ],
 "metadata": {
  "language_info": {
   "codemirror_mode": {
    "name": "ipython",
    "version": 3
   },
   "file_extension": ".py",
   "mimetype": "text/x-python",
   "name": "python",
   "nbconvert_exporter": "python",
   "pygments_lexer": "ipython3",
   "version": "3.7.3-final"
  },
  "orig_nbformat": 2,
  "kernelspec": {
   "name": "python3",
   "display_name": "Python 3"
  }
 },
 "nbformat": 4,
 "nbformat_minor": 2
}