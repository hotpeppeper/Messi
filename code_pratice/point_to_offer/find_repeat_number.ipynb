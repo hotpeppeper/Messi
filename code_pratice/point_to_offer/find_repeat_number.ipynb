{
 "cells": [
  {
   "cell_type": "markdown",
   "metadata": {},
   "source": [
    "### 剑指 Offer 03. 数组中重复的数字\n",
    "\n",
    "找出数组中重复的数字。\n",
    "\n",
    "\n",
    "在一个长度为 n 的数组 nums 里的所有数字都在 0～n-1 的范围内。数组中某些数字是重复的，但不知道有几个数字重复了，也不知道每个数字重复了几次。请找出数组中任意一个重复的数字。\n",
    "\n",
    "```\n",
    "输入：\n",
    "[2, 3, 1, 0, 2, 5, 3]\n",
    "输出：2 或 3 \n",
    "```"
   ]
  },
  {
   "cell_type": "code",
   "execution_count": 2,
   "metadata": {},
   "outputs": [],
   "source": [
    "def find_repeat_number(nums):\n",
    "    # 记录出现的数字\n",
    "    repeat = {}\n",
    "    res = -1\n",
    "    for num in nums:\n",
    "        if num in repeat:\n",
    "            res = num\n",
    "            break\n",
    "        else:\n",
    "            repeat[num] = 1\n",
    "    return res"
   ]
  },
  {
   "cell_type": "code",
   "execution_count": 3,
   "metadata": {},
   "outputs": [
    {
     "output_type": "execute_result",
     "data": {
      "text/plain": "2"
     },
     "metadata": {},
     "execution_count": 3
    }
   ],
   "source": [
    "find_repeat_number([2, 3, 1, 0, 2, 5, 3])"
   ]
  },
  {
   "cell_type": "markdown",
   "metadata": {},
   "source": [
    "### 剑指 Offer 04. 二维数组中的查找\n",
    "\n",
    "在一个 n * m 的二维数组中，每一行都按照从左到右递增的顺序排序，每一列都按照从上到下递增的顺序排序。请完成一个函数，输入这样的一个二维数组和一个整数，判断数组中是否含有该整数。\n",
    "\n",
    "```\n",
    "[\n",
    "  [1,   4,  7, 11, 15],\n",
    "  [2,   5,  8, 12, 19],\n",
    "  [3,   6,  9, 16, 22],\n",
    "  [10, 13, 14, 17, 24],\n",
    "  [18, 21, 23, 26, 30]\n",
    "]\n",
    "\n",
    "给定 target = 5，返回 true。\n",
    "给定 target = 20，返回 false。\n",
    "```"
   ]
  },
  {
   "cell_type": "code",
   "execution_count": 4,
   "metadata": {},
   "outputs": [],
   "source": [
    "def find_number_in_2darray(matrix, target):\n",
    "    if len(matrix) == 0 or len(matrix[0]) == 0:\n",
    "        return False\n",
    "    row = len(matrix)\n",
    "    column = len(matrix[0])\n",
    "    l, r = 0, len(matrix[0]) - 1\n",
    "    while l < row and r >= 0:\n",
    "        num = matrix[l][r]\n",
    "        if num == target:\n",
    "            return True\n",
    "        elif num > target:\n",
    "            # num大于target，列下标减1\n",
    "            r -= 1\n",
    "        else:\n",
    "            # num小于target，行下表减1\n",
    "            l += 1\n",
    "    return False"
   ]
  },
  {
   "cell_type": "code",
   "execution_count": 5,
   "metadata": {},
   "outputs": [
    {
     "output_type": "execute_result",
     "data": {
      "text/plain": "True"
     },
     "metadata": {},
     "execution_count": 5
    }
   ],
   "source": [
    "aa = [\n",
    "  [1,   4,  7, 11, 15],\n",
    "  [2,   5,  8, 12, 19],\n",
    "  [3,   6,  9, 16, 22],\n",
    "  [10, 13, 14, 17, 24],\n",
    "  [18, 21, 23, 26, 30]\n",
    "]\n",
    "find_number_in_2darray(aa, 5)"
   ]
  },
  {
   "cell_type": "code",
   "execution_count": 6,
   "metadata": {},
   "outputs": [
    {
     "output_type": "execute_result",
     "data": {
      "text/plain": "False"
     },
     "metadata": {},
     "execution_count": 6
    }
   ],
   "source": [
    "find_number_in_2darray(aa, 99)"
   ]
  },
  {
   "cell_type": "markdown",
   "metadata": {},
   "source": [
    "### 剑指 Offer 05. 替换空格\n",
    "请实现一个函数，把字符串 s 中的每个空格替换成\"%20\"。\n",
    "\n",
    "```\n",
    "输入：s = \"We are happy.\"\n",
    "输出：\"We%20are%20happy.\"\n",
    "```"
   ]
  },
  {
   "cell_type": "code",
   "execution_count": 7,
   "metadata": {},
   "outputs": [],
   "source": [
    "def replace_space(s):\n",
    "    res = []\n",
    "    for i in s:\n",
    "        if i == ' ':\n",
    "            res.append('%20')\n",
    "        else:\n",
    "            res.append(i)\n",
    "    return ''.join(res)"
   ]
  },
  {
   "cell_type": "code",
   "execution_count": 8,
   "metadata": {},
   "outputs": [
    {
     "output_type": "execute_result",
     "data": {
      "text/plain": "'We%20are%20happy.'"
     },
     "metadata": {},
     "execution_count": 8
    }
   ],
   "source": [
    "replace_space('We are happy.')"
   ]
  },
  {
   "cell_type": "code",
   "execution_count": 9,
   "metadata": {},
   "outputs": [
    {
     "output_type": "execute_result",
     "data": {
      "text/plain": "'We%20are%20%20%20%20%20%20happy.'"
     },
     "metadata": {},
     "execution_count": 9
    }
   ],
   "source": [
    "replace_space('We are      happy.')"
   ]
  },
  {
   "cell_type": "markdown",
   "metadata": {},
   "source": [
    "### 剑指 Offer 06. 从尾到头打印链表\n",
    "\n",
    "输入一个链表的头节点，从尾到头反过来返回每个节点的值（用数组返回）。\n",
    "```\n",
    "输入：head = [1,3,2]\n",
    "输出：[2,3,1]\n",
    "```"
   ]
  },
  {
   "cell_type": "code",
   "execution_count": 10,
   "metadata": {},
   "outputs": [],
   "source": [
    "class ListNode:\n",
    "    def __init__(self, x):\n",
    "        self.val = x\n",
    "        self.next = None"
   ]
  },
  {
   "cell_type": "code",
   "execution_count": 11,
   "metadata": {},
   "outputs": [],
   "source": [
    "def reverse_print(head: ListNode):\n",
    "    res = []\n",
    "    while head:\n",
    "        res.append(head.val)\n",
    "        head = head.next\n",
    "    return res[::-1]"
   ]
  },
  {
   "cell_type": "code",
   "execution_count": null,
   "metadata": {},
   "outputs": [],
   "source": []
  }
 ],
 "metadata": {
  "language_info": {
   "codemirror_mode": {
    "name": "ipython",
    "version": 3
   },
   "file_extension": ".py",
   "mimetype": "text/x-python",
   "name": "python",
   "nbconvert_exporter": "python",
   "pygments_lexer": "ipython3",
   "version": "3.7.3-final"
  },
  "orig_nbformat": 2,
  "kernelspec": {
   "name": "python3",
   "display_name": "Python 3"
  }
 },
 "nbformat": 4,
 "nbformat_minor": 2
}