{
 "cells": [
  {
   "cell_type": "markdown",
   "metadata": {},
   "source": [
    "### 剑指 Offer 03. 数组中重复的数字\n",
    "\n",
    "找出数组中重复的数字。\n",
    "\n",
    "\n",
    "在一个长度为 n 的数组 nums 里的所有数字都在 0～n-1 的范围内。数组中某些数字是重复的，但不知道有几个数字重复了，也不知道每个数字重复了几次。请找出数组中任意一个重复的数字。\n",
    "\n",
    "```\n",
    "输入：\n",
    "[2, 3, 1, 0, 2, 5, 3]\n",
    "输出：2 或 3 \n",
    "```"
   ]
  },
  {
   "cell_type": "code",
   "execution_count": 2,
   "metadata": {},
   "outputs": [],
   "source": [
    "def find_repeat_number(nums):\n",
    "    # 记录出现的数字\n",
    "    repeat = {}\n",
    "    res = -1\n",
    "    for num in nums:\n",
    "        if num in repeat:\n",
    "            res = num\n",
    "            break\n",
    "        else:\n",
    "            repeat[num] = 1\n",
    "    return res"
   ]
  },
  {
   "cell_type": "code",
   "execution_count": 3,
   "metadata": {},
   "outputs": [
    {
     "output_type": "execute_result",
     "data": {
      "text/plain": "2"
     },
     "metadata": {},
     "execution_count": 3
    }
   ],
   "source": [
    "find_repeat_number([2, 3, 1, 0, 2, 5, 3])"
   ]
  },
  {
   "cell_type": "markdown",
   "metadata": {},
   "source": [
    "### 剑指 Offer 04. 二维数组中的查找\n",
    "\n",
    "在一个 n * m 的二维数组中，每一行都按照从左到右递增的顺序排序，每一列都按照从上到下递增的顺序排序。请完成一个函数，输入这样的一个二维数组和一个整数，判断数组中是否含有该整数。\n",
    "\n",
    "```\n",
    "[\n",
    "  [1,   4,  7, 11, 15],\n",
    "  [2,   5,  8, 12, 19],\n",
    "  [3,   6,  9, 16, 22],\n",
    "  [10, 13, 14, 17, 24],\n",
    "  [18, 21, 23, 26, 30]\n",
    "]\n",
    "\n",
    "给定 target = 5，返回 true。\n",
    "给定 target = 20，返回 false。\n",
    "```"
   ]
  },
  {
   "cell_type": "code",
   "execution_count": 4,
   "metadata": {},
   "outputs": [],
   "source": [
    "def find_number_in_2darray(matrix, target):\n",
    "    if len(matrix) == 0 or len(matrix[0]) == 0:\n",
    "        return False\n",
    "    row = len(matrix)\n",
    "    column = len(matrix[0])\n",
    "    l, r = 0, len(matrix[0]) - 1\n",
    "    while l < row and r >= 0:\n",
    "        num = matrix[l][r]\n",
    "        if num == target:\n",
    "            return True\n",
    "        elif num > target:\n",
    "            # num大于target，列下标减1\n",
    "            r -= 1\n",
    "        else:\n",
    "            # num小于target，行下表减1\n",
    "            l += 1\n",
    "    return False"
   ]
  },
  {
   "cell_type": "code",
   "execution_count": 5,
   "metadata": {},
   "outputs": [
    {
     "output_type": "execute_result",
     "data": {
      "text/plain": "True"
     },
     "metadata": {},
     "execution_count": 5
    }
   ],
   "source": [
    "aa = [\n",
    "  [1,   4,  7, 11, 15],\n",
    "  [2,   5,  8, 12, 19],\n",
    "  [3,   6,  9, 16, 22],\n",
    "  [10, 13, 14, 17, 24],\n",
    "  [18, 21, 23, 26, 30]\n",
    "]\n",
    "find_number_in_2darray(aa, 5)"
   ]
  },
  {
   "cell_type": "code",
   "execution_count": 6,
   "metadata": {},
   "outputs": [
    {
     "output_type": "execute_result",
     "data": {
      "text/plain": "False"
     },
     "metadata": {},
     "execution_count": 6
    }
   ],
   "source": [
    "find_number_in_2darray(aa, 99)"
   ]
  },
  {
   "cell_type": "markdown",
   "metadata": {},
   "source": [
    "### 剑指 Offer 05. 替换空格\n",
    "请实现一个函数，把字符串 s 中的每个空格替换成\"%20\"。\n",
    "\n",
    "```\n",
    "输入：s = \"We are happy.\"\n",
    "输出：\"We%20are%20happy.\"\n",
    "```"
   ]
  },
  {
   "cell_type": "code",
   "execution_count": 7,
   "metadata": {},
   "outputs": [],
   "source": [
    "def replace_space(s):\n",
    "    res = []\n",
    "    for i in s:\n",
    "        if i == ' ':\n",
    "            res.append('%20')\n",
    "        else:\n",
    "            res.append(i)\n",
    "    return ''.join(res)"
   ]
  },
  {
   "cell_type": "code",
   "execution_count": 8,
   "metadata": {},
   "outputs": [
    {
     "output_type": "execute_result",
     "data": {
      "text/plain": "'We%20are%20happy.'"
     },
     "metadata": {},
     "execution_count": 8
    }
   ],
   "source": [
    "replace_space('We are happy.')"
   ]
  },
  {
   "cell_type": "code",
   "execution_count": 9,
   "metadata": {},
   "outputs": [
    {
     "output_type": "execute_result",
     "data": {
      "text/plain": "'We%20are%20%20%20%20%20%20happy.'"
     },
     "metadata": {},
     "execution_count": 9
    }
   ],
   "source": [
    "replace_space('We are      happy.')"
   ]
  },
  {
   "cell_type": "markdown",
   "metadata": {},
   "source": [
    "### 剑指 Offer 06. 从尾到头打印链表\n",
    "\n",
    "输入一个链表的头节点，从尾到头反过来返回每个节点的值（用数组返回）。\n",
    "```\n",
    "输入：head = [1,3,2]\n",
    "输出：[2,3,1]\n",
    "```"
   ]
  },
  {
   "cell_type": "code",
   "execution_count": 10,
   "metadata": {},
   "outputs": [],
   "source": [
    "class ListNode:\n",
    "    def __init__(self, x):\n",
    "        self.val = x\n",
    "        self.next = None"
   ]
  },
  {
   "cell_type": "code",
   "execution_count": 11,
   "metadata": {},
   "outputs": [],
   "source": [
    "def reverse_print(head: ListNode):\n",
    "    res = []\n",
    "    while head:\n",
    "        res.append(head.val)\n",
    "        head = head.next\n",
    "    return res[::-1]"
   ]
  },
  {
   "cell_type": "markdown",
   "metadata": {},
   "source": [
    "### 剑指 Offer 07. 重建二叉树\n",
    "\n",
    "输入某二叉树的前序遍历和中序遍历的结果，请重建该二叉树。假设输入的前序遍历和中序遍历的结果中都不含重复的数字。\n",
    "\n",
    "```\n",
    "前序遍历 preorder = [3,9,20,15,7]\n",
    "中序遍历 inorder = [9,3,15,20,7]\n",
    "```"
   ]
  },
  {
   "cell_type": "code",
   "execution_count": 12,
   "metadata": {},
   "outputs": [],
   "source": [
    "class TreeNode:\n",
    "    def __init__(self, x):\n",
    "        self.val = x\n",
    "        self.left = None\n",
    "        self.right = None"
   ]
  },
  {
   "cell_type": "markdown",
   "metadata": {},
   "source": [
    "* 前序遍历顺序：根节点，左子树，右子树，每个子树的遍历顺序同样满足前序遍历顺序\n",
    "* 中序遍历顺序：左子树，根节点，右子树，每个子树的遍历顺序同样满足中序遍历顺序\n",
    "* 使用前序遍历的第一个元素构建根节点\n",
    "* 创建一个栈，将根节点压栈\n",
    "* 初始化中序遍历下标0\n",
    "* 遍历前序遍历的元素，判断其上一个元素是否等于中序遍历下标的元素\n",
    "    * 若上一个元素不等于中序遍历下标元素，则当前元素为上一个元素的左子节点，并将该节点压栈\n",
    "    * 若上一个元素等于中序遍历下标元素，则从栈内弹出一个元素，同时令中序遍历的下标指向下一个元素，继续判断栈顶元素是否等于中序遍历下标指向元素，若相等则重复该操作，直到栈为空或者元素不相等。然后令当前元素为最后一个相等元素的右节点\n",
    "* 遍历结束"
   ]
  },
  {
   "cell_type": "code",
   "execution_count": 15,
   "metadata": {},
   "outputs": [],
   "source": [
    "def build_tree(preorder, inorder):\n",
    "    if len(preorder) == 0:\n",
    "        return None\n",
    "    len_ = len(preorder)\n",
    "    # 根节点为前序遍历的第一个值\n",
    "    root = TreeNode(preorder[0])\n",
    "    stack = []\n",
    "    stack.append(root)\n",
    "    inorder_index = 0\n",
    "    for i in range(1, len_):\n",
    "        pre_val = preorder[i]\n",
    "        node = stack[-1]\n",
    "        if node.val != inorder[inorder_index]:\n",
    "            # 每次比较栈顶元素和inorder[inorder_index]\n",
    "            node.left = TreeNode(pre_val)\n",
    "            stack.append(node.left)\n",
    "        else:\n",
    "            while stack and stack[-1].val == inorder[inorder_index]:\n",
    "                # 栈顶元素等于inorder[inorder_index], 弹出，inorder_index+1\n",
    "                node = stack.pop()\n",
    "                inorder_index += 1\n",
    "            node.right = TreeNode(pre_val)\n",
    "            stack.append(node.right)\n",
    "    return root"
   ]
  },
  {
   "cell_type": "markdown",
   "metadata": {},
   "source": [
    "### 剑指 Offer 09. 用两个栈实现队列\n",
    "\n",
    "用两个栈实现一个队列。队列的声明如下，请实现它的两个函数 appendTail 和 deleteHead ，分别完成在队列尾部插入整数和在队列头部删除整数的功能。(若队列中没有元素，deleteHead 操作返回 -1 )\n",
    "\n",
    "```\n",
    "输入：\n",
    "[\"CQueue\",\"appendTail\",\"deleteHead\",\"deleteHead\"]\n",
    "[[],[3],[],[]]\n",
    "输出：[null,null,3,-1]\n",
    "```\n",
    "```\n",
    "输入：\n",
    "[\"CQueue\",\"deleteHead\",\"appendTail\",\"appendTail\",\"deleteHead\",\"deleteHead\"]\n",
    "[[],[],[5],[2],[],[]]\n",
    "输出：[null,-1,null,null,5,2]\n",
    "```"
   ]
  },
  {
   "cell_type": "code",
   "execution_count": 16,
   "metadata": {},
   "outputs": [],
   "source": [
    "class CQueue:\n",
    "    def __init__(self):\n",
    "        self.stack_in = []\n",
    "        self.stack_out = []\n",
    "\n",
    "    def appendTail(self, value):\n",
    "        self.stack_in.append(value)\n",
    "\n",
    "    def deleteHead(self):\n",
    "        if not self.stack_out:\n",
    "            if not self.stack_in:\n",
    "                # 都为空\n",
    "                return -1\n",
    "            else:\n",
    "                # 将stack_in元素全部转入stack_out\n",
    "                while self.stack_in:\n",
    "                    self.stack_out.append(self.stack_in.pop())\n",
    "\n",
    "        return self.stack_out.pop()"
   ]
  },
  {
   "cell_type": "markdown",
   "metadata": {},
   "source": [
    "### 剑指 Offer 10- I. 斐波那契数列\n",
    "\n",
    "写一个函数，输入 n ，求斐波那契（Fibonacci）数列的第 n 项。斐波那契数列的定义如下：\n",
    "```\n",
    "F(0) = 0,   F(1) = 1\n",
    "F(N) = F(N - 1) + F(N - 2), 其中 N > 1.\n",
    "```"
   ]
  },
  {
   "cell_type": "code",
   "execution_count": 22,
   "metadata": {},
   "outputs": [],
   "source": [
    "def fib(n):\n",
    "    if n <= 1:\n",
    "        return n\n",
    "    stack = [0]*(n+1)\n",
    "    stack[0] = stack[1] = 1\n",
    "    for i in range(2, n+1):\n",
    "        stack[i] = stack[i - 1] + stack[i - 2]\n",
    "    return stack[n]"
   ]
  },
  {
   "cell_type": "code",
   "execution_count": 23,
   "metadata": {},
   "outputs": [
    {
     "output_type": "execute_result",
     "data": {
      "text/plain": "8"
     },
     "metadata": {},
     "execution_count": 23
    }
   ],
   "source": [
    "fib(5)"
   ]
  },
  {
   "cell_type": "code",
   "execution_count": 24,
   "metadata": {},
   "outputs": [
    {
     "output_type": "execute_result",
     "data": {
      "text/plain": "21"
     },
     "metadata": {},
     "execution_count": 24
    }
   ],
   "source": [
    "fib(7)"
   ]
  },
  {
   "cell_type": "markdown",
   "metadata": {},
   "source": [
    "### 剑指 Offer 11. 旋转数组的最小数字\n",
    "\n",
    "把一个数组最开始的若干个元素搬到数组的末尾，我们称之为数组的旋转。输入一个递增排序的数组的一个旋转，输出旋转数组的最小元素。例如，数组 \\[3,4,5,1,2\\] 为 \\[1,2,3,4,5\\] 的一个旋转，该数组的最小值为1。 \n",
    "\n",
    "```\n",
    "输入：[3,4,5,1,2]\n",
    "输出：1\n",
    "```\n",
    "```\n",
    "输入：[2,2,2,0,1]\n",
    "输出：0\n",
    "```"
   ]
  },
  {
   "cell_type": "code",
   "execution_count": 34,
   "metadata": {},
   "outputs": [],
   "source": [
    "def min_array(numbers):\n",
    "    len_ = len(numbers)\n",
    "    if len_ == 0:\n",
    "        return 0\n",
    "    if len_ == 1:\n",
    "        return numbers[0]\n",
    "\n",
    "    l = 0\n",
    "    r = len_ - 1\n",
    "    while l < r:\n",
    "        mid = l + (r - l) // 2\n",
    "        if numbers[r] < numbers[mid]:\n",
    "            # 最小数字在右边\n",
    "            l = mid + 1\n",
    "        elif numbers[r] > numbers[mid]:\n",
    "            # 最小数字在左边\n",
    "            r = mid\n",
    "        else:\n",
    "            # 只能把r去掉，[l. r-1]\n",
    "            r -= 1\n",
    "    \n",
    "    return numbers[l]"
   ]
  },
  {
   "cell_type": "code",
   "execution_count": 35,
   "metadata": {},
   "outputs": [
    {
     "output_type": "execute_result",
     "data": {
      "text/plain": "1"
     },
     "metadata": {},
     "execution_count": 35
    }
   ],
   "source": [
    "min_array([3,4,5,1,2])"
   ]
  },
  {
   "cell_type": "code",
   "execution_count": 33,
   "metadata": {},
   "outputs": [
    {
     "output_type": "execute_result",
     "data": {
      "text/plain": "0"
     },
     "metadata": {},
     "execution_count": 33
    }
   ],
   "source": [
    "min_array([2,2,2,0,1])"
   ]
  },
  {
   "cell_type": "code",
   "execution_count": 36,
   "metadata": {},
   "outputs": [
    {
     "output_type": "execute_result",
     "data": {
      "text/plain": "0"
     },
     "metadata": {},
     "execution_count": 36
    }
   ],
   "source": [
    "min_array([3,4,5,0,1,2])"
   ]
  },
  {
   "cell_type": "markdown",
   "metadata": {},
   "source": [
    "### 剑指 Offer 15. 二进制中1的个数\n",
    "\n",
    "请实现一个函数，输入一个整数，输出该数二进制表示中 1 的个数。例如，把 9 表示成二进制是 1001，有 2 位是 1。因此，如果输入 9，则该函数输出 2。\n",
    "\n",
    "```\n",
    "输入：00000000000000000000000000001011\n",
    "输出：3\n",
    "解释：输入的二进制串 00000000000000000000000000001011 中，共有三位为 '1'。\n",
    "```\n"
   ]
  },
  {
   "cell_type": "markdown",
   "metadata": {},
   "source": [
    "* `n &= (n-1)` 消去数字n的最右边一位1"
   ]
  },
  {
   "cell_type": "code",
   "execution_count": 40,
   "metadata": {},
   "outputs": [],
   "source": [
    "def hamming_weight(n):\n",
    "    res = 0\n",
    "    while n:\n",
    "        res += 1\n",
    "        n &= (n - 1)\n",
    "    return res"
   ]
  },
  {
   "cell_type": "code",
   "execution_count": 41,
   "metadata": {},
   "outputs": [
    {
     "output_type": "execute_result",
     "data": {
      "text/plain": "2"
     },
     "metadata": {},
     "execution_count": 41
    }
   ],
   "source": [
    "hamming_weight(9)"
   ]
  },
  {
   "cell_type": "code",
   "execution_count": 42,
   "metadata": {},
   "outputs": [
    {
     "output_type": "execute_result",
     "data": {
      "text/plain": "4"
     },
     "metadata": {},
     "execution_count": 42
    }
   ],
   "source": [
    "hamming_weight(15)"
   ]
  },
  {
   "cell_type": "code",
   "execution_count": 43,
   "metadata": {},
   "outputs": [],
   "source": [
    "def hamming_weight(n):\n",
    "    res= 0\n",
    "    while n:\n",
    "        res += n & 1\n",
    "        n >>= 1\n",
    "    return res"
   ]
  },
  {
   "cell_type": "code",
   "execution_count": 44,
   "metadata": {},
   "outputs": [
    {
     "output_type": "execute_result",
     "data": {
      "text/plain": "4"
     },
     "metadata": {},
     "execution_count": 44
    }
   ],
   "source": [
    "hamming_weight(15)"
   ]
  },
  {
   "cell_type": "code",
   "execution_count": 45,
   "metadata": {},
   "outputs": [
    {
     "output_type": "execute_result",
     "data": {
      "text/plain": "8"
     },
     "metadata": {},
     "execution_count": 45
    }
   ],
   "source": [
    "hamming_weight(255)"
   ]
  },
  {
   "cell_type": "markdown",
   "metadata": {},
   "source": [
    "### 剑指 Offer 12. 矩阵中的路径\n",
    "\n",
    "请设计一个函数，用来判断在一个矩阵中是否存在一条包含某字符串所有字符的路径。路径可以从矩阵中的任意一格开始，每一步可以在矩阵中向左、右、上、下移动一格。如果一条路径经过了矩阵的某一格，那么该路径不能再次进入该格子。例如，在下面的3×4的矩阵中包含一条字符串“bfce”的路径（路径中的字母用加粗标出）。\n",
    "\n",
    "```\n",
    "输入：board = [[\"A\",\"B\",\"C\",\"E\"],[\"S\",\"F\",\"C\",\"S\"],[\"A\",\"D\",\"E\",\"E\"]], word = \"ABCCED\"\n",
    "输出：true\n",
    "```\n",
    "```\n",
    "输入：board = [[\"a\",\"b\"],[\"c\",\"d\"]], word = \"abcd\"\n",
    "输出：false\n",
    "```"
   ]
  },
  {
   "cell_type": "code",
   "execution_count": 46,
   "metadata": {},
   "outputs": [],
   "source": [
    "def exist(board, word):\n",
    "    def __dfs(i, j, k):\n",
    "        if not (0 <= i < len(board)) or not (0 <= j < len(board[0])) or board[i][j] != word[k]:\n",
    "            return False\n",
    "        if k == len(word) - 1:\n",
    "            return True\n",
    "\n",
    "        tmp, board[i][j] = board[i][j], '/'\n",
    "        res = __dfs(i + 1, j, k + 1) or __dfs(i - 1, j, k + 1) or __dfs(i, j - 1, k + 1)\n",
    "        board[i][j] = tmp\n",
    "        return res\n",
    "\n",
    "    for i in range(len(board)):\n",
    "        for j in range(len(board[0])):\n",
    "            if __dfs(i, j, 0):\n",
    "                return True\n",
    "    return False"
   ]
  },
  {
   "cell_type": "code",
   "execution_count": 47,
   "metadata": {},
   "outputs": [],
   "source": [
    "board = [[\"A\",\"B\",\"C\",\"E\"],[\"S\",\"F\",\"C\",\"S\"],[\"A\",\"D\",\"E\",\"E\"]]\n",
    "word = \"ABCCED\""
   ]
  },
  {
   "cell_type": "code",
   "execution_count": 48,
   "metadata": {},
   "outputs": [
    {
     "output_type": "execute_result",
     "data": {
      "text/plain": "False"
     },
     "metadata": {},
     "execution_count": 48
    }
   ],
   "source": [
    "exist(board, word)"
   ]
  },
  {
   "cell_type": "markdown",
   "metadata": {},
   "source": [
    "### 剑指 Offer 18. 删除链表的节点\n",
    "\n",
    "给定单向链表的头指针和一个要删除的节点的值，定义一个函数删除该节点。\n",
    "\n",
    "返回删除后的链表的头节点。\n",
    "\n",
    "```\n",
    "输入: head = [4,5,1,9], val = 5\n",
    "输出: [4,1,9]\n",
    "解释: 给定你链表中值为 5 的第二个节点，那么在调用了你的函数之后，该链表应变为 4 -> 1 -> 9.\n",
    "```"
   ]
  },
  {
   "cell_type": "code",
   "execution_count": 49,
   "metadata": {},
   "outputs": [],
   "source": [
    "class ListNode:\n",
    "    def __init__(self, x):\n",
    "        self.val = x\n",
    "        self.next = None"
   ]
  },
  {
   "cell_type": "code",
   "execution_count": 50,
   "metadata": {},
   "outputs": [],
   "source": [
    "def delete_node(head, val):\n",
    "    new_head = ListNode(0)\n",
    "    new_head.next = head\n",
    "    pre, post = new_head, new_head.next\n",
    "    while post:\n",
    "        if post.val == val:\n",
    "            pre.next = post.next\n",
    "            break\n",
    "        pre, post = post, post.next\n",
    "    return new_head.next"
   ]
  },
  {
   "cell_type": "markdown",
   "metadata": {},
   "source": [
    "### 剑指 Offer 21. 调整数组顺序使奇数位于偶数前面\n",
    "\n",
    "输入一个整数数组，实现一个函数来调整该数组中数字的顺序，使得所有奇数位于数组的前半部分，所有偶数位于数组的后半部分。\n",
    "\n",
    "```\n",
    "输入：nums = [1,2,3,4]\n",
    "输出：[1,3,2,4] \n",
    "注：[3,1,2,4] 也是正确的答案之一。\n",
    "```"
   ]
  },
  {
   "cell_type": "code",
   "execution_count": 51,
   "metadata": {},
   "outputs": [],
   "source": [
    "def exchange(nums):\n",
    "    if len(nums) <= 1:\n",
    "        return nums\n",
    "    # left 指向偶数\n",
    "    # right 指向奇数 \n",
    "    left, right = 0, len(nums) - 1\n",
    "    while left < right:\n",
    "        if nums[left] % 2 == 1 and nums[right] % 2 == 1:\n",
    "            # 此时left指向奇数，右移一位\n",
    "            left += 1\n",
    "        elif nums[left] % 2 == 0 and nums[right] % 2 == 0:\n",
    "            # 此时left和right都指向偶数，right左移一位\n",
    "            right -= 1\n",
    "        elif nums[left] % 2 == 0 and nums[right] % 2 == 1:\n",
    "            # 交换\n",
    "            nums[left], nums[right] = nums[right], nums[left]\n",
    "            left += 1\n",
    "            right -= 1\n",
    "        elif nums[left] % 2 == 1 and nums[right] % 2 == 0:\n",
    "            # 此时left指向奇数，right指向偶数，不需交换，各自移位\n",
    "            left += 1\n",
    "            right -= 1\n",
    "    return nums"
   ]
  },
  {
   "cell_type": "code",
   "execution_count": 53,
   "metadata": {},
   "outputs": [
    {
     "output_type": "execute_result",
     "data": {
      "text/plain": "[1, 7, 3, 5, 4, 6, 2, 8]"
     },
     "metadata": {},
     "execution_count": 53
    }
   ],
   "source": [
    "exchange([1,2,3,4,5,6,7,8])"
   ]
  },
  {
   "cell_type": "markdown",
   "metadata": {},
   "source": [
    "### 剑指 Offer 22. 链表中倒数第k个节点\n",
    "\n",
    "输入一个链表，输出该链表中倒数第k个节点。为了符合大多数人的习惯，本题从1开始计数，即链表的尾节点是倒数第1个节点。例如，一个链表有6个节点，从头节点开始，它们的值依次是1、2、3、4、5、6。这个链表的倒数第3个节点是值为4的节点。\n",
    "\n",
    "```\n",
    "给定一个链表: 1->2->3->4->5, 和 k = 2.\n",
    "\n",
    "返回链表 4->5.\n",
    "```"
   ]
  },
  {
   "cell_type": "code",
   "execution_count": 54,
   "metadata": {},
   "outputs": [],
   "source": [
    "class ListNode:\n",
    "    def __init__(self, x):\n",
    "        self.val = x\n",
    "        self.next = None"
   ]
  },
  {
   "cell_type": "code",
   "execution_count": 55,
   "metadata": {},
   "outputs": [],
   "source": [
    "def get_kth_from_end(head, k):\n",
    "    if head == None or head.next == None:\n",
    "        return head\n",
    "\n",
    "    slow, fast = head, head\n",
    "    for _ in range(k):\n",
    "        # 快指针，先走k步\n",
    "        fast = fast.next\n",
    "    while fast:\n",
    "        slow = slow.next\n",
    "        fast = fast.next\n",
    "    return slow"
   ]
  },
  {
   "cell_type": "markdown",
   "metadata": {},
   "source": [
    "### 剑指 Offer 24. 反转链表\n",
    "\n",
    "定义一个函数，输入一个链表的头节点，反转该链表并输出反转后链表的头节点。\n",
    "\n",
    "```\n",
    "输入: 1->2->3->4->5->NULL\n",
    "输出: 5->4->3->2->1->NULL\n",
    "```"
   ]
  },
  {
   "cell_type": "code",
   "execution_count": 56,
   "metadata": {},
   "outputs": [],
   "source": [
    "def reverse_list(head):\n",
    "    cur = None\n",
    "    pre = head\n",
    "    while pre:\n",
    "        tmp = pre.next\n",
    "        pre.next = cur\n",
    "        cur = pre\n",
    "        pre = tmp\n",
    "\n",
    "    return cur"
   ]
  },
  {
   "cell_type": "code",
   "execution_count": 57,
   "metadata": {},
   "outputs": [],
   "source": [
    "head = ListNode(1)\n",
    "head.next = ListNode(2)\n",
    "head.next.next = ListNode(3)\n",
    "head.next.next.next = ListNode(4)\n",
    "head.next.next.next.next = ListNode(5)\n",
    "res = reverse_list(head)"
   ]
  },
  {
   "cell_type": "code",
   "execution_count": 58,
   "metadata": {},
   "outputs": [
    {
     "output_type": "stream",
     "name": "stdout",
     "text": "5\n4\n3\n2\n1\n"
    }
   ],
   "source": [
    "while res:\n",
    "    print(res.val)\n",
    "    res = res.next"
   ]
  },
  {
   "cell_type": "markdown",
   "metadata": {},
   "source": [
    "### 剑指 Offer 25. 合并两个排序的链表\n",
    "\n",
    "输入两个递增排序的链表，合并这两个链表并使新链表中的节点仍然是递增排序的。\n",
    "\n",
    "```\n",
    "输入：1->2->4, 1->3->4\n",
    "输出：1->1->2->3->4->4\n",
    "```"
   ]
  },
  {
   "cell_type": "code",
   "execution_count": null,
   "metadata": {},
   "outputs": [],
   "source": [
    "def merge_two_lists(l1, l2):\n",
    "    cur = ListNode(0)\n",
    "    dum = cur\n",
    "    while l1 and l2:\n",
    "        if l1.val < l2.val:\n",
    "            cur.next, l1 = l1, l1.next\n",
    "        else:\n",
    "            cur.next, l2 = l2, l2.next\n",
    "        cur = cur.next\n",
    "    cur.next = l1 if l1 else l2\n",
    "\n",
    "    return dum.next"
   ]
  }
 ],
 "metadata": {
  "language_info": {
   "codemirror_mode": {
    "name": "ipython",
    "version": 3
   },
   "file_extension": ".py",
   "mimetype": "text/x-python",
   "name": "python",
   "nbconvert_exporter": "python",
   "pygments_lexer": "ipython3",
   "version": "3.7.3-final"
  },
  "orig_nbformat": 2,
  "kernelspec": {
   "name": "python3",
   "display_name": "Python 3"
  }
 },
 "nbformat": 4,
 "nbformat_minor": 2
}