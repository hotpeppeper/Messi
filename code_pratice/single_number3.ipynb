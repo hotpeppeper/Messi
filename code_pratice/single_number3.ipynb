{
 "cells": [
  {
   "cell_type": "markdown",
   "metadata": {},
   "source": [
    "### no.260. 只出现一次的数字 III\n",
    "\n",
    "给定一个整数数组 nums，其中恰好有两个元素只出现一次，其余所有元素均出现两次。 找出只出现一次的那两个元素。\n",
    "```\n",
    "输入: [1,2,1,3,2,5]\n",
    "输出: [3,5]\n",
    "\n",
    "```"
   ]
  },
  {
   "cell_type": "code",
   "execution_count": 9,
   "metadata": {},
   "outputs": [],
   "source": [
    "def single_number(nums):\n",
    "    tmp = dict()\n",
    "    for num in nums:\n",
    "        if num not in tmp:\n",
    "            tmp[num] = 1\n",
    "        else:\n",
    "            tmp[num] = tmp[num] + 1\n",
    "    return [x for x in tmp if tmp[x] == 1]"
   ]
  },
  {
   "cell_type": "code",
   "execution_count": 10,
   "metadata": {},
   "outputs": [
    {
     "output_type": "execute_result",
     "data": {
      "text/plain": "[3, 5]"
     },
     "metadata": {},
     "execution_count": 10
    }
   ],
   "source": [
    "single_number([1,2,1,3,2,5])"
   ]
  },
  {
   "cell_type": "markdown",
   "metadata": {},
   "source": [
    "* 思路, 先全部异或一次, 得到的结果, 考察其的某个非0位(比如最高非0位), 那么只出现一次的两个数中, 在这个位上一个为0, 一个为1, 由此可以将数组中的元素分成两部分,重新遍历, 求两个异或值"
   ]
  },
  {
   "cell_type": "code",
   "execution_count": 13,
   "metadata": {},
   "outputs": [],
   "source": [
    "def single_number(nums):\n",
    "    acc = 0\n",
    "    for num in nums:\n",
    "        acc ^= num\n",
    "    # 取最低为为 1 的值, 将数字分组\n",
    "    diff = acc & (-acc)\n",
    "    x = 0\n",
    "    for num in nums:\n",
    "        if num & diff:\n",
    "            x ^= num\n",
    "\n",
    "    return [x, acc ^ x]"
   ]
  },
  {
   "cell_type": "code",
   "execution_count": 14,
   "metadata": {},
   "outputs": [
    {
     "output_type": "execute_result",
     "data": {
      "text/plain": "[3, 5]"
     },
     "metadata": {},
     "execution_count": 14
    }
   ],
   "source": [
    "single_number([1,2,1,3,2,5])"
   ]
  },
  {
   "cell_type": "code",
   "execution_count": null,
   "metadata": {},
   "outputs": [],
   "source": []
  }
 ],
 "metadata": {
  "language_info": {
   "codemirror_mode": {
    "name": "ipython",
    "version": 3
   },
   "file_extension": ".py",
   "mimetype": "text/x-python",
   "name": "python",
   "nbconvert_exporter": "python",
   "pygments_lexer": "ipython3",
   "version": "3.7.3-final"
  },
  "orig_nbformat": 2,
  "kernelspec": {
   "name": "python3",
   "display_name": "Python 3"
  }
 },
 "nbformat": 4,
 "nbformat_minor": 2
}