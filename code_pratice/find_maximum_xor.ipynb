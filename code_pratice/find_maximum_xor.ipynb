{
 "cells": [
  {
   "cell_type": "markdown",
   "metadata": {},
   "source": [
    "### no.421. 数组中两个数的最大异或值\n",
    "给定一个非空数组，数组中元素为 a0, a1, a2, … , an-1，其中 0 ≤ ai < 231 。\n",
    "\n",
    "找到 ai 和aj 最大的异或 (XOR) 运算结果，其中0 ≤ i,  j < n 。\n",
    "\n",
    "```\n",
    "输入: [3, 10, 5, 25, 2, 8]\n",
    "\n",
    "输出: 28\n",
    "\n",
    "解释: 最大的结果是 5 ^ 25 = 28.\n",
    "```"
   ]
  },
  {
   "cell_type": "markdown",
   "metadata": {},
   "source": [
    "![](.\\\\code_pratice\\\\pics\\\\find_Mmaximum_xor.png)"
   ]
  },
  {
   "cell_type": "markdown",
   "metadata": {},
   "source": [
    "* 字典树中的每条根节点到页节点的路径都代表了nums中的一个整数，所有的二进制长度都为L，$L=1+\\log_2M$，M为nums中的最大数值\n",
    "* 字典树非常适合用来存储整数的二进制形式，例如存储 2（00010） 和 3（00011），其中 5 个比特位中有 4 个比特位都是相同的。\n",
    "* 为了最大化异或值，需要在没有找到当前bit值的互补bit值\n",
    "1. 如果当前比特值存在互补比特值，访问具有互补比特值的孩子节点，并在异或值最右侧附加一个 1。\n",
    "2. 如果不存在，直接访问具有当前比特值的孩子节点，并在异或值最右侧附加一个 0。"
   ]
  },
  {
   "cell_type": "markdown",
   "metadata": {},
   "source": [
    "![](.\\\\code_pratice\\\\pics\\\\find_Mmaximum_xor2.png)"
   ]
  },
  {
   "cell_type": "markdown",
   "metadata": {},
   "source": [
    "### 算法\n",
    "* 在按位字典树插入数字\n",
    "* 找到插入数字在字典树中能找到的最大异或值"
   ]
  },
  {
   "cell_type": "code",
   "execution_count": 1,
   "metadata": {},
   "outputs": [],
   "source": [
    "def find_maximum_xor(nums):\n",
    "    # 计算nums中最大值的二进制长度\n",
    "    L = len(bin(max(nums))) - 2\n",
    "    # 使所有的二进制长度一致\n",
    "    nums = [[(x >> i) & 1 for i in range(L)][::-1] for x in nums]\n",
    "\n",
    "    max_xor = 0\n",
    "    trie = dict()\n",
    "    for num in nums:\n",
    "        node = trie\n",
    "        xor_node = trie\n",
    "        cur_xor = 0\n",
    "        for bit in num:\n",
    "            if not bit in node:\n",
    "                node[bit] = dict()\n",
    "            node = node[bit]\n",
    "\n",
    "            # 计算最大的异或值\n",
    "            toggled_bit = 1 - bit\n",
    "            if toggled_bit in xor_node:\n",
    "                cur_xor = (cur_xor << 1) | 1\n",
    "                xor_node = xor_node[toggled_bit]\n",
    "            else:\n",
    "                cur_xor = cur_xor << 1\n",
    "                xor_node = xor_node[bit]\n",
    "\n",
    "        max_xor = max(max_xor, cur_xor)\n",
    "    return max_xor"
   ]
  },
  {
   "cell_type": "code",
   "execution_count": null,
   "metadata": {},
   "outputs": [],
   "source": [
    "find_maximum_xor([3, 10, 5, 25, 2, 8])"
   ]
  }
 ],
 "metadata": {
  "language_info": {
   "codemirror_mode": {
    "name": "ipython",
    "version": 3
   },
   "file_extension": ".py",
   "mimetype": "text/x-python",
   "name": "python",
   "nbconvert_exporter": "python",
   "pygments_lexer": "ipython3",
   "version": "3.7.3-final"
  },
  "orig_nbformat": 2,
  "kernelspec": {
   "name": "python3",
   "display_name": "Python 3"
  }
 },
 "nbformat": 4,
 "nbformat_minor": 2
}