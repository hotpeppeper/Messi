{
 "cells": [
  {
   "cell_type": "markdown",
   "metadata": {},
   "source": [
    "### no.8. 字符串转换整数 (atoi)\n",
    "请你来实现一个 atoi 函数，使其能将字符串转换成整数。\n",
    "```\n",
    "输入: \"4193 with words\"\n",
    "输出: 4193\n",
    "解释: 转换截止于数字 '3' ，因为它的下一个字符不为数字。\n",
    "```"
   ]
  },
  {
   "cell_type": "code",
   "execution_count": 12,
   "metadata": {},
   "outputs": [],
   "source": [
    "def my_atoi(s):\n",
    "    digits = {'0':0, '1':1, '2':2,\n",
    "              '3':3, '4':4, '5':5,\n",
    "              '6':6, '7':7, '8':8, '9':9}\n",
    "\n",
    "    # 跳过空格\n",
    "    start = 0\n",
    "    while start < len(s) and s[start] == ' ':\n",
    "        start += 1\n",
    "    if start == len(s):\n",
    "        return 0\n",
    "    sign = 1\n",
    "    # 跳过正负号\n",
    "    sign_num = 0\n",
    "    if s[start] == '+':\n",
    "        start += 1\n",
    "        sign_num += 1\n",
    "    if  start != len(str) and s[start] == '-':\n",
    "        start += 1\n",
    "        sign = -1\n",
    "        sign_num += 1\n",
    "\n",
    "    if sign_num > 1:\n",
    "        return 0\n",
    "        \n",
    "    res = 0\n",
    "    for c in s[start: ]:\n",
    "        d = digits.get(c, None)\n",
    "        if not d:\n",
    "            break\n",
    "\n",
    "        if sign == -1 and ((res > 214748364) or (res == 214748364 and d == 9)):\n",
    "            return -2147483648\n",
    "        elif sign == 1 and ((res > 214748364) or (res == 214748364 and d > 7)):\n",
    "            return 2147483647\n",
    "\n",
    "        res = res * 10 + d\n",
    "\n",
    "    return sign * res"
   ]
  },
  {
   "cell_type": "code",
   "execution_count": 13,
   "metadata": {},
   "outputs": [
    {
     "output_type": "execute_result",
     "data": {
      "text/plain": "4193"
     },
     "metadata": {},
     "execution_count": 13
    }
   ],
   "source": [
    "my_atoi('4193 with words')"
   ]
  },
  {
   "cell_type": "code",
   "execution_count": 14,
   "metadata": {},
   "outputs": [
    {
     "output_type": "execute_result",
     "data": {
      "text/plain": "-4193"
     },
     "metadata": {},
     "execution_count": 14
    }
   ],
   "source": [
    "my_atoi('-4193 with words')"
   ]
  },
  {
   "cell_type": "code",
   "execution_count": null,
   "metadata": {},
   "outputs": [],
   "source": []
  }
 ],
 "metadata": {
  "language_info": {
   "codemirror_mode": {
    "name": "ipython",
    "version": 3
   },
   "file_extension": ".py",
   "mimetype": "text/x-python",
   "name": "python",
   "nbconvert_exporter": "python",
   "pygments_lexer": "ipython3",
   "version": "3.7.3-final"
  },
  "orig_nbformat": 2,
  "kernelspec": {
   "name": "python3",
   "display_name": "Python 3"
  }
 },
 "nbformat": 4,
 "nbformat_minor": 2
}