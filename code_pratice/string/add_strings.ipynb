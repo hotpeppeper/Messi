{
 "cells": [
  {
   "cell_type": "markdown",
   "metadata": {},
   "source": [
    "### no.415. 字符串相加\n",
    "给定两个字符串形式的非负整数 num1 和num2 ，计算它们的和。"
   ]
  },
  {
   "cell_type": "code",
   "execution_count": 3,
   "metadata": {},
   "outputs": [],
   "source": [
    "def add_strings(num1, num2):\n",
    "    res = ''\n",
    "    i = len(num1) - 1\n",
    "    j = len(num2) - 1\n",
    "    carry = 0\n",
    "    while j >= 0 or i >= 0:\n",
    "        n1 = int(num1[i]) if i >= 0 else 0\n",
    "        n2 = int(num2[j]) if j >= 0 else 0\n",
    "        tmp = n1 + n2 + carry\n",
    "        carry = tmp // 10\n",
    "        res = str(tmp%10) + res\n",
    "        i -= 1\n",
    "        j -= 1\n",
    "    return '1' + res if carry else res"
   ]
  },
  {
   "cell_type": "code",
   "execution_count": 4,
   "metadata": {},
   "outputs": [
    {
     "output_type": "execute_result",
     "data": {
      "text/plain": "'579'"
     },
     "metadata": {},
     "execution_count": 4
    }
   ],
   "source": [
    "add_strings('123', '956')"
   ]
  },
  {
   "cell_type": "code",
   "execution_count": null,
   "metadata": {},
   "outputs": [],
   "source": []
  }
 ],
 "metadata": {
  "language_info": {
   "codemirror_mode": {
    "name": "ipython",
    "version": 3
   },
   "file_extension": ".py",
   "mimetype": "text/x-python",
   "name": "python",
   "nbconvert_exporter": "python",
   "pygments_lexer": "ipython3",
   "version": "3.7.3-final"
  },
  "orig_nbformat": 2,
  "kernelspec": {
   "name": "python3",
   "display_name": "Python 3"
  }
 },
 "nbformat": 4,
 "nbformat_minor": 2
}