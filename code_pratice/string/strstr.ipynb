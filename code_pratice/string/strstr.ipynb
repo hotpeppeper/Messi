{
 "cells": [
  {
   "cell_type": "markdown",
   "metadata": {},
   "source": [
    "### no.28. 实现 strStr()\n",
    "\n",
    "给定一个 haystack 字符串和一个 needle 字符串，在 haystack 字符串中找出 needle 字符串出现的第一个位置 (从0开始)。如果不存在，则返回  -1。\n",
    "\n",
    "```\n",
    "输入: haystack = \"hello\", needle = \"ll\"\n",
    "输出: 2\n",
    "\n",
    "输入: haystack = \"aaaaa\", needle = \"bba\"\n",
    "输出: -1\n",
    "```"
   ]
  },
  {
   "cell_type": "code",
   "execution_count": 1,
   "metadata": {},
   "outputs": [],
   "source": [
    "def strstr(haystack: str, needle: str):\n",
    "    hay_len = len(haystack)\n",
    "    n_len = len(needle)\n",
    "    for i in range(hay_len - n_len + 1):\n",
    "        if haystack[i: i+n_len] == needle:\n",
    "            return i\n",
    "    return -1"
   ]
  },
  {
   "cell_type": "code",
   "execution_count": 2,
   "metadata": {},
   "outputs": [
    {
     "output_type": "execute_result",
     "data": {
      "text/plain": "2"
     },
     "metadata": {},
     "execution_count": 2
    }
   ],
   "source": [
    "strstr('hello', 'll')"
   ]
  },
  {
   "cell_type": "code",
   "execution_count": 3,
   "metadata": {},
   "outputs": [
    {
     "output_type": "execute_result",
     "data": {
      "text/plain": "-1"
     },
     "metadata": {},
     "execution_count": 3
    }
   ],
   "source": [
    "strstr('hello', 'ba')"
   ]
  },
  {
   "cell_type": "code",
   "execution_count": null,
   "metadata": {},
   "outputs": [],
   "source": []
  }
 ],
 "metadata": {
  "language_info": {
   "codemirror_mode": {
    "name": "ipython",
    "version": 3
   },
   "file_extension": ".py",
   "mimetype": "text/x-python",
   "name": "python",
   "nbconvert_exporter": "python",
   "pygments_lexer": "ipython3",
   "version": "3.7.3-final"
  },
  "orig_nbformat": 2,
  "kernelspec": {
   "name": "python3",
   "display_name": "Python 3"
  }
 },
 "nbformat": 4,
 "nbformat_minor": 2
}