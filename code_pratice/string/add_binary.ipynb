{
 "cells": [
  {
   "cell_type": "markdown",
   "metadata": {},
   "source": [
    "### no.67. 二进制求和\n",
    "\n",
    "给你两个二进制字符串，返回它们的和（用二进制表示）。\n",
    "输入为 非空 字符串且只包含数字 1 和 0。\n",
    "\n",
    "```\n",
    "输入: a = \"11\", b = \"1\"\n",
    "输出: \"100\"\n",
    "\n",
    "输入: a = \"1010\", b = \"1011\"\n",
    "输出: \"10101\"\n",
    "```"
   ]
  },
  {
   "cell_type": "markdown",
   "metadata": {},
   "source": [
    "* 逐位计算\n",
    "\n",
    "初始进位 carry = 0，如果数字 aa 的最低位是 1，则将 1 加到进位 carrycarry；同理如果数字 bb 的最低位是 1，则也将 1 加到进位。此时最低位有三种情况：(00)_2(00) \n",
    "2\n",
    "​\t\n",
    " ，(01)_2(01) \n",
    "2\n",
    "​\t\n",
    "  或者 (10)_2(10) \n",
    "2"
   ]
  },
  {
   "cell_type": "code",
   "execution_count": 9,
   "metadata": {},
   "outputs": [],
   "source": [
    "def add_banary(a, b):\n",
    "    max_len = max(len(a), len(b))\n",
    "    a = a.zfill(max_len)\n",
    "    b = b.zfill(max_len)\n",
    "\n",
    "    carry = 0\n",
    "    res = []\n",
    "    for i in range(max_len-1, -1, -1):\n",
    "        if a[i] == '1':\n",
    "            carry += 1\n",
    "        if b[i] == '1':\n",
    "            carry += 1\n",
    "\n",
    "        if carry % 2 == 1:\n",
    "            res.append('1')\n",
    "        else:\n",
    "            res.append('0')\n",
    "\n",
    "        carry //= 2 # 更新进位\n",
    "\n",
    "    if carry == 1:\n",
    "        res.append('1')\n",
    "\n",
    "    res.reverse()\n",
    "\n",
    "    return ''.join(res)"
   ]
  },
  {
   "cell_type": "code",
   "execution_count": 10,
   "metadata": {},
   "outputs": [
    {
     "output_type": "execute_result",
     "data": {
      "text/plain": "'10101'"
     },
     "metadata": {},
     "execution_count": 10
    }
   ],
   "source": [
    "add_banary('1010', '1011')"
   ]
  },
  {
   "cell_type": "code",
   "execution_count": 11,
   "metadata": {},
   "outputs": [
    {
     "output_type": "execute_result",
     "data": {
      "text/plain": "'100'"
     },
     "metadata": {},
     "execution_count": 11
    }
   ],
   "source": [
    "add_banary('11', '1')"
   ]
  },
  {
   "cell_type": "markdown",
   "metadata": {},
   "source": [
    "* 位操作\n",
    "1. 将a, b装换成整型数字x, y, x保存结果，y保存进位\n",
    "2. 当进位不为0\n",
    "    * 计算当前的x，y的无进位相加的结果 `res = x^y`\n",
    "    * 计算当前的进位：`carry=(x&y)<<1`\n",
    "    * 更新`x=res, y=carry`"
   ]
  },
  {
   "cell_type": "code",
   "execution_count": null,
   "metadata": {},
   "outputs": [],
   "source": [
    "def add_banary(a, b):\n",
    "    x, y = int(a, 2), int(b, 2)\n",
    "    "
   ]
  }
 ],
 "metadata": {
  "language_info": {
   "codemirror_mode": {
    "name": "ipython",
    "version": 3
   },
   "file_extension": ".py",
   "mimetype": "text/x-python",
   "name": "python",
   "nbconvert_exporter": "python",
   "pygments_lexer": "ipython3",
   "version": "3.7.3-final"
  },
  "orig_nbformat": 2,
  "kernelspec": {
   "name": "python3",
   "display_name": "Python 3"
  }
 },
 "nbformat": 4,
 "nbformat_minor": 2
}