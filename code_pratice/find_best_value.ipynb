{
 "cells": [
  {
   "cell_type": "markdown",
   "metadata": {},
   "source": [
    "### no.1300. 转变数组后最接近目标值的数组和\n",
    "\n",
    "给你一个整数数组 arr 和一个目标值 target ，请你返回一个整数 value ，使得将数组中所有大于 value 的值变成 value 后，数组的和最接近  target （最接近表示两者之差的绝对值最小）。\n",
    "\n",
    "如果有多种使得和最接近 target 的方案，请你返回这些整数中的最小值。\n",
    "\n",
    "请注意，答案不一定是 arr 中的数字。\n",
    "\n",
    "```\n",
    "输入：arr = [4,9,3], target = 10\n",
    "输出：3\n",
    "解释：当选择 value 为 3 时，数组会变成 [3, 3, 3]，和为 9 ，这是最接近 target 的方案。\n",
    "```\n",
    "```\n",
    "输入：arr = [60864,25176,27249,21296,20204], target = 56803\n",
    "输出：11361\n",
    "```"
   ]
  },
  {
   "cell_type": "code",
   "execution_count": 5,
   "metadata": {},
   "outputs": [],
   "source": [
    "import bisect\n",
    "def find_best_value(arr : list, target : int):\n",
    "    len_ = len(arr)\n",
    "    arr.sort()\n",
    "    prefix = [0]\n",
    "    for num in arr:\n",
    "        prefix.append(prefix[-1] + num)\n",
    "\n",
    "    left, right, res = 0, arr[-1], -1\n",
    "    while left < right:\n",
    "        mid = (left + right) // 2\n",
    "        it = bisect.bisect_left(arr, mid)\n",
    "        cur = prefix[it] + (len_ - it) * mid\n",
    "        if cur <= target:\n",
    "            res = mid\n",
    "            left = mid + 1\n",
    "        else:\n",
    "            right = mid - 1\n",
    "\n",
    "    def check(x):\n",
    "        return sum(x if num >= x else num for num in arr)\n",
    "    \n",
    "    small = check(res)\n",
    "    big = check(res + 1)\n",
    "    return res if abs(small - target) <= abs(big - target) else res + 1"
   ]
  },
  {
   "cell_type": "code",
   "execution_count": 6,
   "metadata": {},
   "outputs": [
    {
     "output_type": "execute_result",
     "data": {
      "text/plain": "11361"
     },
     "metadata": {},
     "execution_count": 6
    }
   ],
   "source": [
    "arr = [60864,25176,27249,21296,20204]\n",
    "target = 56803\n",
    "find_best_value(arr, target)"
   ]
  },
  {
   "cell_type": "code",
   "execution_count": null,
   "metadata": {},
   "outputs": [],
   "source": []
  }
 ],
 "metadata": {
  "language_info": {
   "codemirror_mode": {
    "name": "ipython",
    "version": 3
   },
   "file_extension": ".py",
   "mimetype": "text/x-python",
   "name": "python",
   "nbconvert_exporter": "python",
   "pygments_lexer": "ipython3",
   "version": "3.7.3-final"
  },
  "orig_nbformat": 2,
  "kernelspec": {
   "name": "python3",
   "display_name": "Python 3"
  }
 },
 "nbformat": 4,
 "nbformat_minor": 2
}