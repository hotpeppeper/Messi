{
 "metadata": {
  "language_info": {
   "codemirror_mode": {
    "name": "ipython",
    "version": 3
   },
   "file_extension": ".py",
   "mimetype": "text/x-python",
   "name": "python",
   "nbconvert_exporter": "python",
   "pygments_lexer": "ipython3",
   "version": "3.7.3-final"
  },
  "orig_nbformat": 2,
  "kernelspec": {
   "name": "python3",
   "display_name": "Python 3"
  }
 },
 "nbformat": 4,
 "nbformat_minor": 2,
 "cells": [
  {
   "source": [
    "### 先序，中序，后序遍历二叉树\n",
    "* 先序 根、左，右\n",
    "* 中序 左、根、右\n",
    "* 后序 左、右、根"
   ],
   "cell_type": "markdown",
   "metadata": {}
  },
  {
   "cell_type": "code",
   "execution_count": 1,
   "metadata": {},
   "outputs": [],
   "source": [
    "# 树节点\n",
    "class Node:\n",
    "    def __init__(self, x):\n",
    "        self.value = x\n",
    "        self.left = None\n",
    "        self.right = None"
   ]
  },
  {
   "cell_type": "code",
   "execution_count": 2,
   "metadata": {},
   "outputs": [],
   "source": [
    "def pre_order_recur(head):\n",
    "    if head is None:\n",
    "        return\n",
    "\n",
    "    print(head.value)\n",
    "    pre_order_recur(head.left)\n",
    "    pre_order_recur(head.right)"
   ]
  },
  {
   "cell_type": "code",
   "execution_count": 3,
   "metadata": {},
   "outputs": [],
   "source": [
    "def in_order_recur(head):\n",
    "    if head is None:\n",
    "        return\n",
    "        \n",
    "    in_order_recur(head.left)\n",
    "    print(head.value)\n",
    "    in_order_recur(head.right)"
   ]
  },
  {
   "cell_type": "code",
   "execution_count": 4,
   "metadata": {},
   "outputs": [],
   "source": [
    "def post_order_recur(head):\n",
    "    if head is None:\n",
    "        return\n",
    "    \n",
    "    post_order_recur(head.left)\n",
    "    post_order_recur(head.right)\n",
    "    print(head.value)"
   ]
  },
  {
   "source": [
    "##### 非递归实现\n",
    "1. 申请一个新的栈stack，然后将头节点压入栈stack\n",
    "2. 从stack中弹出节点，记为cur，打印cur的值，再将cur的右节点压栈，最后将cur的左节点压栈\n",
    "3. 不断重复步骤2，知道栈空"
   ],
   "cell_type": "markdown",
   "metadata": {}
  },
  {
   "cell_type": "code",
   "execution_count": null,
   "metadata": {},
   "outputs": [],
   "source": [
    "def pre_order_unrecur(head):\n",
    "    if head != None:\n",
    "        stack = []\n",
    "        stack.append(head)\n",
    "        while len(stack) != 0:\n",
    "            head = stack.pop()\n",
    "            print(head.value)\n",
    "            if head.right:\n",
    "                stack.append(head.right)\n",
    "            if head.left:\n",
    "                stack.append(head.left)\n"
   ]
  }
 ]
}