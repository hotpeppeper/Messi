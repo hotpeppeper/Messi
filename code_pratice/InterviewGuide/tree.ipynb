{
 "metadata": {
  "language_info": {
   "codemirror_mode": {
    "name": "ipython",
    "version": 3
   },
   "file_extension": ".py",
   "mimetype": "text/x-python",
   "name": "python",
   "nbconvert_exporter": "python",
   "pygments_lexer": "ipython3",
   "version": "3.7.3-final"
  },
  "orig_nbformat": 2,
  "kernelspec": {
   "name": "python3",
   "display_name": "Python 3"
  }
 },
 "nbformat": 4,
 "nbformat_minor": 2,
 "cells": [
  {
   "source": [
    "### 先序，中序，后序遍历二叉树\n",
    "* 先序 根、左，右\n",
    "* 中序 左、根、右\n",
    "* 后序 左、右、根"
   ],
   "cell_type": "markdown",
   "metadata": {}
  },
  {
   "cell_type": "code",
   "execution_count": 1,
   "metadata": {},
   "outputs": [],
   "source": [
    "# 树节点\n",
    "class Node:\n",
    "    def __init__(self, x):\n",
    "        self.value = x\n",
    "        self.left = None\n",
    "        self.right = None"
   ]
  },
  {
   "cell_type": "code",
   "execution_count": 2,
   "metadata": {},
   "outputs": [],
   "source": [
    "def pre_order_recur(head):\n",
    "    if head is None:\n",
    "        return\n",
    "\n",
    "    print(head.value)\n",
    "    pre_order_recur(head.left)\n",
    "    pre_order_recur(head.right)"
   ]
  },
  {
   "cell_type": "code",
   "execution_count": 3,
   "metadata": {},
   "outputs": [],
   "source": [
    "def in_order_recur(head):\n",
    "    if head is None:\n",
    "        return\n",
    "        \n",
    "    in_order_recur(head.left)\n",
    "    print(head.value)\n",
    "    in_order_recur(head.right)"
   ]
  },
  {
   "cell_type": "code",
   "execution_count": 4,
   "metadata": {},
   "outputs": [],
   "source": [
    "def post_order_recur(head):\n",
    "    if head is None:\n",
    "        return\n",
    "    \n",
    "    post_order_recur(head.left)\n",
    "    post_order_recur(head.right)\n",
    "    print(head.value)"
   ]
  },
  {
   "source": [
    "##### 非递归实现前序遍历\n",
    "1. 申请一个新的栈stack，然后将头节点压入栈stack\n",
    "2. 从stack中弹出节点，记为cur，打印cur的值，再将cur的右节点压栈，最后将cur的左节点压栈\n",
    "3. 不断重复步骤2，知道栈空"
   ],
   "cell_type": "markdown",
   "metadata": {}
  },
  {
   "cell_type": "code",
   "execution_count": 5,
   "metadata": {},
   "outputs": [],
   "source": [
    "def pre_order_unrecur(head):\n",
    "    if head != None:\n",
    "        stack = []\n",
    "        stack.append(head)\n",
    "        while len(stack) != 0:\n",
    "            head = stack.pop()\n",
    "            print(head.value)\n",
    "            if head.right:\n",
    "                stack.append(head.right)\n",
    "            if head.left:\n",
    "                stack.append(head.left)\n"
   ]
  },
  {
   "source": [
    "#### 层序遍历"
   ],
   "cell_type": "markdown",
   "metadata": {}
  },
  {
   "cell_type": "code",
   "execution_count": null,
   "metadata": {},
   "outputs": [],
   "source": [
    "def lever_order(root):\n",
    "    if not root:\n",
    "        return []\n",
    "    res = []\n",
    "    layer = deque()\n",
    "    layer.append(root)\n",
    "    while layer:\n",
    "        cur = []\n",
    "        for i in range(len(layer)):\n",
    "            node = layer.popleft()\n",
    "            cur.append(node.val)\n",
    "            if node.left:\n",
    "                layer.append(node.left)\n",
    "            if node.right:\n",
    "                layer.append(node.right)\n",
    "        res.append(cur)\n",
    "    return res"
   ]
  },
  {
   "source": [
    "##### 二叉树的最大深度\n",
    "给定一个二叉树，找出其最大深度"
   ],
   "cell_type": "markdown",
   "metadata": {}
  },
  {
   "cell_type": "code",
   "execution_count": 1,
   "metadata": {},
   "outputs": [],
   "source": [
    "def max_depth(root):\n",
    "    if not root:\n",
    "        return 0\n",
    "    else:\n",
    "        left = max_depth(root.left)\n",
    "        right = max_depth(root.right)\n",
    "        return max(left, right) + 1"
   ]
  },
  {
   "source": [
    "##### 对称二叉树\n",
    "给定一棵二叉树，检查是否是镜像对称的"
   ],
   "cell_type": "markdown",
   "metadata": {}
  },
  {
   "cell_type": "code",
   "execution_count": null,
   "metadata": {},
   "outputs": [],
   "source": [
    "def is_symmetric(root):\n",
    "    def check(p, q):\n",
    "        if not p and not p:\n",
    "            return True\n",
    "        if not p or not q:\n",
    "            return False\n",
    "        return q.val == p.val and check(p.left, q.right) and check(p.right, q.left)\n",
    "    return check(root, root)"
   ]
  },
  {
   "source": [
    "### 未排序正数数组中累加和为给定值的最长子数组长度\n",
    "给定一个数组arr，一个正数k，求arr的所有子数组中所有元素相加和为k的最长子数组长度\n",
    "\n",
    "```\n",
    "arr=[1,2,1,1,1], k=3\n",
    "返回 3\n",
    "```"
   ],
   "cell_type": "markdown",
   "metadata": {}
  },
  {
   "cell_type": "code",
   "execution_count": 7,
   "metadata": {},
   "outputs": [],
   "source": [
    "def get_max_length(arr, k):\n",
    "    if not arr or k <= 0:\n",
    "        return 0\n",
    "    left, right = 0, 0\n",
    "    sum_ = arr[0]\n",
    "    res = 0\n",
    "    n = len(arr)\n",
    "    while right < n:\n",
    "        if sum_ == k:\n",
    "            res = max(res, right - left + 1)\n",
    "            sum_ -= arr[left]\n",
    "            left += 1\n",
    "        elif sum_ < k:\n",
    "            right += 1\n",
    "            if right == n:\n",
    "                break\n",
    "            sum_ += arr[right]\n",
    "            \n",
    "        else:\n",
    "            sum_ -= arr[left]\n",
    "            left += 1\n",
    "\n",
    "    return res"
   ]
  },
  {
   "cell_type": "code",
   "execution_count": 10,
   "metadata": {},
   "outputs": [
    {
     "output_type": "execute_result",
     "data": {
      "text/plain": [
       "3"
      ]
     },
     "metadata": {},
     "execution_count": 10
    }
   ],
   "source": [
    "get_max_length([1,4,1,1,1],3)"
   ]
  },
  {
   "cell_type": "code",
   "execution_count": null,
   "metadata": {},
   "outputs": [],
   "source": []
  }
 ]
}