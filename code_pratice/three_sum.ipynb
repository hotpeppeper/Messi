{
 "cells": [
  {
   "cell_type": "markdown",
   "metadata": {},
   "source": [
    "### no.15. 三数之和\n",
    "给你一个包含 n 个整数的数组 nums，判断 nums 中是否存在三个元素 a，b，c ，使得 a + b + c = 0 ？请你找出所有满足条件且不重复的三元组。\n",
    "\n",
    "```\n",
    "给定数组 nums = [-1, 0, 1, 2, -1, -4]，\n",
    "\n",
    "满足要求的三元组集合为：\n",
    "[\n",
    "  [-1, 0, 1],\n",
    "  [-1, -1, 2]\n",
    "]\n",
    "```"
   ]
  },
  {
   "cell_type": "markdown",
   "metadata": {},
   "source": [
    "* 左指针指向L=i+1, 右指针R=n-1, L < R时，循环\n",
    "* nums\\[i\\] + nums\\[L\\] + nums\\[R\\]=0，执行循环，判断左边界和右边界和下一个位置是否重复，去掉重复值，L右移一位，R左移一位\n",
    "* 若相加和大于0，则nums\\[R\\]过大，R左移一位\n",
    "* 若相加和小于0，则nums\\[L\\]过小，L右移一位"
   ]
  },
  {
   "cell_type": "code",
   "execution_count": 1,
   "metadata": {},
   "outputs": [],
   "source": [
    "def three_sum(nums: list):\n",
    "    len_ = len(nums)\n",
    "    nums.sort()\n",
    "\n",
    "    res = list()\n",
    "    for i in range(len_):\n",
    "        if i > 0 and nums[i] == nums[i-1]:\n",
    "            continue\n",
    "        L = i + 1\n",
    "        R = len_ - 1\n",
    "        while L < R:\n",
    "            if nums[i] + nums[L] + nums[R] == 0:\n",
    "                res.append([nums[i], nums[L], nums[R]])\n",
    "                while L < R and nums[L] == nums[L+1]:\n",
    "                    L += 1\n",
    "                while L < R and nums[R] == nums[R-1]:\n",
    "                    R -= 1\n",
    "                L += 1\n",
    "                R -= 1\n",
    "            elif nums[i] + nums[L] + nums[R] > 0:\n",
    "                R -= 1\n",
    "            else:\n",
    "                L += 1\n",
    "    return res"
   ]
  },
  {
   "cell_type": "code",
   "execution_count": 2,
   "metadata": {},
   "outputs": [
    {
     "output_type": "execute_result",
     "data": {
      "text/plain": "[[-1, -1, 2], [-1, 0, 1]]"
     },
     "metadata": {},
     "execution_count": 2
    }
   ],
   "source": [
    "three_sum([-1, 0, 1, 2, -1, -4])"
   ]
  },
  {
   "cell_type": "code",
   "execution_count": 3,
   "metadata": {},
   "outputs": [
    {
     "output_type": "execute_result",
     "data": {
      "text/plain": "[[-4, 2, 2], [-1, -1, 2], [-1, 0, 1]]"
     },
     "metadata": {},
     "execution_count": 3
    }
   ],
   "source": [
    "three_sum([-1, 0, 1, 2, -1, -4, -1, 0, 1, 2, -1, -4])"
   ]
  },
  {
   "cell_type": "code",
   "execution_count": 9,
   "metadata": {},
   "outputs": [],
   "source": [
    "def three_sum(nums: list):\n",
    "    len_ = len(nums)\n",
    "    nums.sort()\n",
    "    res = list()\n",
    "\n",
    "    for i in range(len_):\n",
    "        # 跳过重复\n",
    "        if i > 0 and nums[i] == nums[i-1]:\n",
    "            continue\n",
    "\n",
    "        R = len_ - 1\n",
    "        target = -nums[i]\n",
    "        for j in range(i + 1, len_):\n",
    "            if j > i and nums[j] == nums[j-1]:\n",
    "                continue\n",
    "            while j < R and nums[j] + nums[R] > target:\n",
    "                R -= 1\n",
    "            if j == R:\n",
    "                break\n",
    "            if nums[j] + nums[R] == target:\n",
    "                res.append([nums[i], nums[j], nums[R]])\n",
    "    return res"
   ]
  },
  {
   "cell_type": "code",
   "execution_count": 10,
   "metadata": {},
   "outputs": [
    {
     "output_type": "execute_result",
     "data": {
      "text/plain": "[[-4, 2, 2], [-1, 0, 1]]"
     },
     "metadata": {},
     "execution_count": 10
    }
   ],
   "source": [
    "three_sum([-1, 0, 1, 2, -1, -4, -1, 0, 1, 2, -1, -4])"
   ]
  },
  {
   "cell_type": "code",
   "execution_count": null,
   "metadata": {},
   "outputs": [],
   "source": []
  }
 ],
 "metadata": {
  "language_info": {
   "codemirror_mode": {
    "name": "ipython",
    "version": 3
   },
   "file_extension": ".py",
   "mimetype": "text/x-python",
   "name": "python",
   "nbconvert_exporter": "python",
   "pygments_lexer": "ipython3",
   "version": "3.7.3-final"
  },
  "orig_nbformat": 2,
  "kernelspec": {
   "name": "python3",
   "display_name": "Python 3"
  }
 },
 "nbformat": 4,
 "nbformat_minor": 2
}