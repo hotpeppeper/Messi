{
 "cells": [
  {
   "cell_type": "markdown",
   "metadata": {},
   "source": [
    "### no.26. 删除排序数组中的重复项\n",
    "\n",
    "给定一个排序数组，你需要在 原地 删除重复出现的元素，使得每个元素只出现一次，返回移除后数组的新长度。\n",
    "\n",
    "不要使用额外的数组空间，你必须在 原地 修改输入数组 并在使用 O(1) 额外空间的条件下完成。\n",
    "\n",
    "```\n",
    "给定 nums = [0,0,1,1,1,2,2,3,3,4],\n",
    "\n",
    "函数应该返回新的长度 5, 并且原数组 nums 的前五个元素被修改为 0, 1, 2, 3, 4。\n",
    "\n",
    "你不需要考虑数组中超出新长度后面的元素。\n",
    "```"
   ]
  },
  {
   "cell_type": "markdown",
   "metadata": {},
   "source": [
    "* 设置两个指针i，j，i为快指针，j为慢指针，只要nums\\[j\\]=nums\\[i\\]，增加j跳过重复项\n",
    "* 当nums\\[i\\] != nums\\[j\\]，本次循环跳过重复项便结束，将nums\\[j\\]复制到num\\[i+1\\]，递增i，重复循环"
   ]
  },
  {
   "cell_type": "code",
   "execution_count": 4,
   "metadata": {},
   "outputs": [],
   "source": [
    "def remove_duplicates(nums: list):\n",
    "    if len(nums) == 0:\n",
    "        return 0\n",
    "\n",
    "    i = 0\n",
    "    for j in range(1, len(nums)):\n",
    "        if nums[i] != nums[j]:\n",
    "            i += 1\n",
    "            nums[i] = nums[j]\n",
    "\n",
    "    return i + 1"
   ]
  },
  {
   "cell_type": "code",
   "execution_count": 5,
   "metadata": {},
   "outputs": [
    {
     "output_type": "execute_result",
     "data": {
      "text/plain": "5"
     },
     "metadata": {},
     "execution_count": 5
    }
   ],
   "source": [
    "remove_duplicates([0,0,1,1,1,2,2,3,3,4])"
   ]
  },
  {
   "cell_type": "code",
   "execution_count": 6,
   "metadata": {},
   "outputs": [
    {
     "output_type": "execute_result",
     "data": {
      "text/plain": "7"
     },
     "metadata": {},
     "execution_count": 6
    }
   ],
   "source": [
    "remove_duplicates([0,1,0,1,1,1,2,2,3,3,4])"
   ]
  },
  {
   "cell_type": "markdown",
   "metadata": {},
   "source": [
    "### no.80. 删除排序数组中的重复项 II\n",
    "给定一个排序数组，你需要在原地删除重复出现的元素，使得每个元素最多出现两次，返回移除后数组的新长度。\n",
    "\n",
    "不要使用额外的数组空间，你必须在原地修改输入数组并在使用 O(1) 额外空间的条件下完成。\n",
    "```\n",
    "给定 nums = [0,0,1,1,1,1,2,3,3],\n",
    "\n",
    "函数应返回新长度 length = 7, 并且原数组的前五个元素被修改为 0, 0, 1, 1, 2, 3, 3 。\n",
    "\n",
    "你不需要考虑数组中超出新长度后面的元素。\n",
    "```"
   ]
  },
  {
   "cell_type": "code",
   "execution_count": 9,
   "metadata": {},
   "outputs": [],
   "source": [
    "def remove_duplicates(nums: list):\n",
    "    if len(nums) == 0:\n",
    "        return 0\n",
    "\n",
    "    i = 1\n",
    "    count = 1\n",
    "    for j in range(1, len(nums)):\n",
    "        if nums[j] == nums[j-1]:\n",
    "            # 前后两个数相等，计数加1\n",
    "            count += 1\n",
    "        else:\n",
    "            # 否则计数值置为1\n",
    "            count = 1\n",
    "        if count <= 2:\n",
    "            nums[i] = nums[j]\n",
    "            i += 1\n",
    "    return i"
   ]
  },
  {
   "cell_type": "code",
   "execution_count": 10,
   "metadata": {},
   "outputs": [
    {
     "output_type": "execute_result",
     "data": {
      "text/plain": "7"
     },
     "metadata": {},
     "execution_count": 10
    }
   ],
   "source": [
    "remove_duplicates([0,0,1,1,1,1,2,3,3])"
   ]
  },
  {
   "cell_type": "code",
   "execution_count": 11,
   "metadata": {},
   "outputs": [],
   "source": [
    "def remove_duplicates(nums: list):\n",
    "    i = 0\n",
    "    for n in nums:\n",
    "        if i < 2 or n > nums[i-2]:\n",
    "            # 如果重复数字个数大于2，通过条件n > nums[i-2]和i+=1跳过重复项\n",
    "            # 当遍历到下一个不重复的项时，执行替换，并右移一位i\n",
    "            nums[i] = n\n",
    "            i += 1\n",
    "    return i"
   ]
  },
  {
   "cell_type": "code",
   "execution_count": 12,
   "metadata": {},
   "outputs": [
    {
     "output_type": "execute_result",
     "data": {
      "text/plain": "7"
     },
     "metadata": {},
     "execution_count": 12
    }
   ],
   "source": [
    "remove_duplicates([0,0,1,1,1,1,2,3,3])"
   ]
  },
  {
   "cell_type": "markdown",
   "metadata": {},
   "source": [
    "### no.27. 移除元素\n",
    "给你一个数组 nums 和一个值 val，你需要 原地 移除所有数值等于 val 的元素，并返回移除后数组的新长度。\n",
    "\n",
    "```\n",
    "给定 nums = [3,2,2,3], val = 3,\n",
    "\n",
    "函数应该返回新的长度 2, 并且 nums 中的前两个元素均为 2。\n",
    "```"
   ]
  },
  {
   "cell_type": "code",
   "execution_count": 23,
   "metadata": {},
   "outputs": [],
   "source": [
    "def remove_element(nums, val):\n",
    "    i = 0\n",
    "    for n in nums:\n",
    "        if n != val:\n",
    "            nums[i] = n\n",
    "            i += 1\n",
    "    return i"
   ]
  },
  {
   "cell_type": "code",
   "execution_count": 24,
   "metadata": {},
   "outputs": [
    {
     "output_type": "execute_result",
     "data": {
      "text/plain": "2"
     },
     "metadata": {},
     "execution_count": 24
    }
   ],
   "source": [
    "aa = [3,2,2,3,3]\n",
    "remove_element(aa, 3)"
   ]
  },
  {
   "cell_type": "code",
   "execution_count": 18,
   "metadata": {},
   "outputs": [
    {
     "output_type": "execute_result",
     "data": {
      "text/plain": "[2, 2, 3, 3, 3]"
     },
     "metadata": {},
     "execution_count": 18
    }
   ],
   "source": [
    "def remove_element(nums, val):\n",
    "    i = 0\n",
    "    n = len(nums)\n",
    "    while i < n:\n",
    "        if nums[i] == val:\n",
    "            nums[i] = nums[n-1]\n",
    "            n -= 1\n",
    "        else:\n",
    "            i += 1\n",
    "\n",
    "    return n"
   ]
  },
  {
   "cell_type": "code",
   "execution_count": null,
   "metadata": {},
   "outputs": [],
   "source": []
  }
 ],
 "metadata": {
  "language_info": {
   "codemirror_mode": {
    "name": "ipython",
    "version": 3
   },
   "file_extension": ".py",
   "mimetype": "text/x-python",
   "name": "python",
   "nbconvert_exporter": "python",
   "pygments_lexer": "ipython3",
   "version": "3.7.3-final"
  },
  "orig_nbformat": 2,
  "kernelspec": {
   "name": "python3",
   "display_name": "Python 3"
  }
 },
 "nbformat": 4,
 "nbformat_minor": 2
}